{
 "cells": [
  {
   "cell_type": "markdown",
   "metadata": {
    "id": "wPTyzGTtTnJy"
   },
   "source": [
    "#https://www.kaggle.com/datasets/pranavraikokte/covid19-image-dataset"
   ]
  },
  {
   "cell_type": "markdown",
   "metadata": {},
   "source": [
    "# Assignment - COVID XRAY"
   ]
  },
  {
   "cell_type": "markdown",
   "metadata": {},
   "source": [
    "## Objective\n",
    "A healthcare startup aims to accelerate and improve COVID-19 diagnosis using deep learning technologies. The current testing procedures are time-consuming and rely heavily on manual radiological examination, which limits scalability in pandemic situations.\n",
    "As a data scientist, your task is to build a Convolutional Neural Network (CNN) model that can automatically detect COVID-19 from chest X-ray images. This solution can help hospitals:\n",
    "- Reduce diagnosis time.\n",
    "- Minimize burden on radiologists.\n",
    "- Scale testing across regions with limited radiological expertise.\n",
    "This project allows you to apply deep learning concepts, understand how CNNs process image data, and build real-world applications that can assist the medical community.\n"
   ]
  },
  {
   "cell_type": "markdown",
   "metadata": {},
   "source": [
    "# For Google Colab Execution"
   ]
  },
  {
   "cell_type": "code",
   "execution_count": 83,
   "metadata": {
    "id": "dNeGlHH4QkM5"
   },
   "outputs": [],
   "source": [
    "#!mkdir -p ~/.kaggle\n",
    "#!cp kaggle.json ~/.kaggle/"
   ]
  },
  {
   "cell_type": "code",
   "execution_count": 84,
   "metadata": {
    "colab": {
     "base_uri": "https://localhost:8080/"
    },
    "executionInfo": {
     "elapsed": 12781,
     "status": "ok",
     "timestamp": 1751104846864,
     "user": {
      "displayName": "Arihant Jain",
      "userId": "00542987843204554606"
     },
     "user_tz": -330
    },
    "id": "OREdpVCFU1Nj",
    "outputId": "af1e2de7-3cda-4366-ef88-4af1f58c0351"
   },
   "outputs": [],
   "source": [
    "#!kaggle datasets download -d pranavraikokte/covid19-image-dataset"
   ]
  },
  {
   "cell_type": "code",
   "execution_count": 85,
   "metadata": {
    "id": "ZzgeoHf8VLbs"
   },
   "outputs": [],
   "source": [
    "#import zipfile\n",
    "#zip_ref = zipfile.ZipFile('/content/dogs-vs-cats.zip', 'r')\n",
    "#zip_ref.extractall('/content')\n",
    "#zip_ref.close()"
   ]
  },
  {
   "cell_type": "markdown",
   "metadata": {},
   "source": [
    "# For Local Data Execution"
   ]
  },
  {
   "cell_type": "code",
   "execution_count": 143,
   "metadata": {},
   "outputs": [],
   "source": [
    "#%pip install opencv-python\n",
    "\n",
    "import os\n",
    "import shutil\n",
    "import random\n",
    "import cv2\n",
    "import numpy as np\n",
    "import pandas as pd\n",
    "from PIL import Image\n",
    "from pathlib import Path\n",
    "import matplotlib.pyplot as plt\n",
    "import seaborn as sns\n",
    "from sklearn.model_selection import train_test_split\n",
    "from tensorflow.keras.utils import plot_model #for model visualization"
   ]
  },
  {
   "cell_type": "code",
   "execution_count": 144,
   "metadata": {
    "id": "GU5Nz9MOV-xK"
   },
   "outputs": [],
   "source": [
    "import tensorflow as tf\n",
    "from tensorflow import keras\n",
    "from keras import Sequential\n",
    "from keras_tuner import HyperModel #for hyperparameter tuning\n",
    "from keras_tuner.tuners import RandomSearch #for hyperparameter tuning\n",
    "from keras.callbacks import EarlyStopping #for early stopping during training   \n",
    "from keras.layers import Dense,Conv2D,MaxPooling2D,Flatten,BatchNormalization,Dropout"
   ]
  },
  {
   "cell_type": "markdown",
   "metadata": {},
   "source": [
    "# Data Explanation"
   ]
  },
  {
   "cell_type": "markdown",
   "metadata": {},
   "source": [
    "Each image is labelled into one of the following classes:\n",
    "- COVID-19 – Confirmed COVID infection.\n",
    "- Viral Pneumonia – Non-COVID lung infection.\n",
    "- Normal – No visible lung abnormality.\n"
   ]
  },
  {
   "cell_type": "markdown",
   "metadata": {},
   "source": [
    "# Data Details"
   ]
  },
  {
   "cell_type": "code",
   "execution_count": 145,
   "metadata": {},
   "outputs": [
    {
     "name": "stdout",
     "output_type": "stream",
     "text": [
      "Train: 5395\n",
      "Test: 1354\n",
      "Total Data: 6749\n",
      "Train: ['Covid19-dataset/train\\\\Covid\\\\01.jpeg', 'Covid19-dataset/train\\\\Covid\\\\010.png', 'Covid19-dataset/train\\\\Covid\\\\012.jpeg', 'Covid19-dataset/train\\\\Covid\\\\015.jpg', 'Covid19-dataset/train\\\\Covid\\\\019.png']\n",
      "Test: ['Covid19-dataset/test\\\\Covid\\\\0100.jpeg', 'Covid19-dataset/test\\\\Covid\\\\0102.jpeg', 'Covid19-dataset/test\\\\Covid\\\\0105.png', 'Covid19-dataset/test\\\\Covid\\\\0106.jpeg', 'Covid19-dataset/test\\\\Covid\\\\0108.jpeg']\n"
     ]
    }
   ],
   "source": [
    "import glob\n",
    "train = glob.glob('Covid19-dataset/train/*/*')\n",
    "test = glob.glob('Covid19-dataset/test/*/*')\n",
    "print('Train:', len(train))\n",
    "print('Test:', len(test))\n",
    "print('Total Data:', len(train) + len(test))\n",
    "print('Train:', train[:5])\n",
    "print('Test:', test[:5])"
   ]
  },
  {
   "cell_type": "markdown",
   "metadata": {},
   "source": [
    "# Split Data for Train and Test"
   ]
  },
  {
   "cell_type": "code",
   "execution_count": 146,
   "metadata": {},
   "outputs": [],
   "source": [
    "def split(path): \n",
    "\n",
    "    source_folder = path\n",
    "    train_folder = 'train'\n",
    "    val_folder = 'validation'\n",
    "    path.split('/')\n",
    "    if len(path.split('/')) > 1:\n",
    "        train_folder = os.path.join(train_folder, path.split('/')[-1])\n",
    "        val_folder = os.path.join(val_folder, path.split('/')[-1])\n",
    "        print(f\"Splitting data from {source_folder} into {train_folder} and {val_folder}\")\n",
    "    else:\n",
    "        print(f\"Splitting data from {source_folder} into 'train/' and 'validation/'\")   \n",
    "\n",
    "    os.makedirs(train_folder, exist_ok=True)\n",
    "    os.makedirs(val_folder, exist_ok=True)\n",
    "\n",
    "    all_images = [f for f in os.listdir(source_folder) if os.path.isfile(os.path.join(source_folder, f))]\n",
    "\n",
    "    random.shuffle(all_images)\n",
    "\n",
    "    split_index = int(0.8 * len(all_images))\n",
    "\n",
    "    train_images = all_images[:split_index]\n",
    "    val_images = all_images[split_index:]\n",
    "\n",
    "    for img in train_images:\n",
    "        shutil.copy(os.path.join(source_folder, img), os.path.join(train_folder, img))\n",
    "\n",
    "    for img in val_images:\n",
    "        shutil.copy(os.path.join(source_folder, img), os.path.join(val_folder, img))\n",
    "\n",
    "    print(f\"Split complete: {len(train_images)} images in 'train/', {len(val_images)} images in 'validation/'\")\n",
    "\n",
    "#split(\"facemask/with_mask\")\n",
    "#split(\"facemask/without_mask\")"
   ]
  },
  {
   "cell_type": "markdown",
   "metadata": {},
   "source": [
    "# Image Generator\n",
    "**Definition**\n",
    "- ImageDataGenerator is used to create generators that load and transform image data on the fly. \n",
    "- It reads images from a directory or array, applies preprocessing and augmentation, and yields batches for training.\n",
    "\n",
    "\n",
    "| Parameter                   | Sample Value        | Description                                                                 |\n",
    "|----------------------------|---------------------|-----------------------------------------------------------------------------|\n",
    "| `rescale`                  | `1./255`            | Normalizes pixel values to [0, 1] range.                                    |\n",
    "| `rotation_range`           | `30`                | Randomly rotates images by up to 30 degrees.                               |\n",
    "| `width_shift_range`        | `0.2`               | Shifts images horizontally by 20% of width.                                |\n",
    "| `height_shift_range`       | `0.2`               | Shifts images vertically by 20% of height.                                 |\n",
    "| `shear_range`              | `0.2`               | Applies shear transformation with intensity 0.2.                           |\n",
    "| `zoom_range`               | `0.2`               | Randomly zooms images by up to 20%.                                        |\n",
    "| `horizontal_flip`          | `True`              | Randomly flips images horizontally.                                        |\n",
    "| `vertical_flip`            | `False`             | Randomly flips images vertically.                                          |\n",
    "| `brightness_range`         | `(0.5, 1.5)`         | Adjusts brightness randomly within this range.                             |\n",
    "| `channel_shift_range`      | `50.0`              | Randomly shifts color channels by intensity.                               |\n",
    "| `fill_mode`                | `'nearest'`         | Strategy for filling in pixels after transformations.                      |\n",
    "| `cval`                     | `0.0`               | Value used when `fill_mode='constant'`.                                    |\n",
    "| `preprocessing_function`   | `custom_fn`         | Custom function applied to each image after augmentation.                  |\n",
    "| `validation_split`         | `0.2`               | Reserves 20% of data for validation.                                       |\n",
    "| `featurewise_center`       | `False`             | Subtracts mean of dataset from each image.                                 |\n",
    "| `samplewise_center`        | `False`             | Subtracts mean of each image individually.                                 |\n",
    "| `featurewise_std_normalization` | `False`       | Divides images by dataset-wide std deviation.                             |\n",
    "| `samplewise_std_normalization`  | `False`       | Divides each image by its own std deviation.                              |\n",
    "| `zca_whitening`            | `False`             | Applies ZCA whitening (decorrelation).                                     |"
   ]
  },
  {
   "cell_type": "code",
   "execution_count": 174,
   "metadata": {},
   "outputs": [
    {
     "name": "stdout",
     "output_type": "stream",
     "text": [
      "Found 5395 images belonging to 3 classes.\n",
      "Found 1354 images belonging to 3 classes.\n"
     ]
    }
   ],
   "source": [
    "from tensorflow.keras.preprocessing.image import ImageDataGenerator, array_to_img, img_to_array, load_img\n",
    "\n",
    "#train_generator.reset()\n",
    "#\n",
    "# validation_generator.reset()\n",
    "\n",
    "batch_size = 32\n",
    "train_datagen = ImageDataGenerator(\n",
    "        rescale=1./255,              # Normalize pixel values\n",
    "        rotation_range=30,           # Random rotation\n",
    "        width_shift_range=0.1,       # Horizontal shift\n",
    "        height_shift_range=0.1,      # Vertical shift\n",
    "        shear_range=0.2,             # Shear transformation\n",
    "        zoom_range=0.2,              # Zoom\n",
    "        horizontal_flip=True,        # Flip horizontally\n",
    "        fill_mode='nearest'          # Fill strategy for empty pixels\n",
    ")\n",
    "\n",
    "test_datagen = ImageDataGenerator(rescale=1./255)\n",
    "\n",
    "train_generator = train_datagen.flow_from_directory(\n",
    "        'Covid19-dataset/train',\n",
    "        target_size=(256, 256),\n",
    "        batch_size=batch_size,\n",
    "        class_mode='sparse'\n",
    "        )  # Use 'sparse' for integer labels, 'categorical' for one-hot encoded labels\n",
    "\n",
    "# If you have multiple classes, use 'categorical' or 'sparse' based on your label format\n",
    "\n",
    "validation_generator = test_datagen.flow_from_directory(\n",
    "        'Covid19-dataset/test',\n",
    "        target_size=(256, 256),\n",
    "        batch_size=batch_size,\n",
    "        class_mode='sparse'\n",
    "        )  # Use 'sparse' for integer labels, 'categorical' for one-hot encoded labels\n",
    "\n",
    "\n",
    "\n",
    "# Make sure labels are 1D integer numpy arrays\n",
    "train_generator.classes = np.array(train_generator.classes, dtype=np.int32)\n",
    "validation_generator.classes = np.array(validation_generator.classes, dtype=np.int32)"
   ]
  },
  {
   "cell_type": "markdown",
   "metadata": {},
   "source": [
    "# Load DataSet for TensorFlow"
   ]
  },
  {
   "cell_type": "markdown",
   "metadata": {},
   "source": [
    "#### The function keras.utils.image_dataset_from_directory()\n",
    "- Is a high-level utility in TensorFlow/Keras that helps you load image data from a directory structure.\n",
    "-  into a tf.data.Dataset object, which is ideal for training deep learning models.\n",
    "  \n",
    "  **Key Parameters**\n",
    "| Parameter          | Description                                                                 |\n",
    "|--------------------|-----------------------------------------------------------------------------|\n",
    "| `directory`         | Path to the root folder containing subfolders of images.                   |\n",
    "| `labels`            | `'inferred'`, `None`, or a list of labels. `'inferred'` uses subfolder names. |\n",
    "| `label_mode`        | `'int'`, `'categorical'`, `'binary'`, or `None`. Determines label format.  |\n",
    "| `batch_size`        | Number of images per batch. Default is 32.                                 |\n",
    "| `image_size`        | Tuple `(height, width)` to resize images.                                  |\n",
    "| `shuffle`           | Whether to shuffle the data. Default is `True`.                            |\n",
    "| `validation_split`  | Float between 0 and 1 to split data for validation.                        |\n",
    "| `subset`            | `'training'` or `'validation'` if using `validation_split`.                |\n",
    "| `seed`              | Random seed for reproducibility.                                           |\n",
    "\n",
    "#### **Parameter\tDescription**\n",
    "- **` directory `**\tPath to the main folder containing subfolders of images. Each subfolder is treated as a separate class.\n",
    "- **` labels='inferred' `**\tAutomatically infers labels based on subfolder names (e.g., Covid, Normal, Viral Pneumonia).\n",
    "- **` label_mode='int' `**\tLabels are returned as integers (0, 1, 2, etc.). Alternatives: 'categorical', 'binary', 'none'.\n",
    "- **` batch_size=32 `**\tNumber of images to load in each batch.\n",
    "- **` image_size=(256, 256) `**\tResizes all images to 256×256 pixels. Useful for consistency in input shape to CNNs."
   ]
  },
  {
   "cell_type": "code",
   "execution_count": 175,
   "metadata": {},
   "outputs": [
    {
     "name": "stdout",
     "output_type": "stream",
     "text": [
      "Found 5395 files belonging to 3 classes.\n",
      "Found 1354 files belonging to 3 classes.\n"
     ]
    }
   ],
   "source": [
    "# generators\n",
    "train_ds = keras.utils.image_dataset_from_directory(\n",
    "    directory = 'Covid19-dataset/train',\n",
    "    labels='inferred',                                              # Fpr inferred labels\n",
    "    label_mode = 'int',                                             # 'int' for integer labels for sparse, 'categorical' for one-hot encoded labels for categorical crossentropy\n",
    "    #label_mode = 'categorical',                                    # Uncomment this line if you want to use categorical labels\n",
    "    #label_mode = None,                                             # Uncomment this line if you want to use no labels\n",
    "    #label_mode = 'binary',                                         # Uncomment this line if you want to use binary labels\n",
    "    #label_mode = 'multi_hot',                                      # Uncomment this line if you want to use multi-hot encoded labels\n",
    "    #label_mode = 'raw',                                            # Uncomment this line if you want to use raw labels\n",
    "    #label_mode = 'sparse',                                         # Uncomment this line if you want to use sparse labels\n",
    "    #label_mode = 'multi_class',                                    # Uncomment this line if you want to use multi-class labels\n",
    "    #label_mode = 'multi_label',                                    # Uncomment this line if you want to use multi-label labels\n",
    "    #label_mode = 'categorical_crossentropy',                       # Uncomment this line if you want to use categorical crossentropy labels\n",
    "    #label_mode = 'sparse_categorical_crossentropy',                # Uncomment this line if you want to use sparse categorical crossentropy labels\n",
    "    #label_mode = 'binary_crossentropy',                             # Uncomment this line if you want to use binary crossentropy labels\n",
    "    #label_mode = 'multi_label_categorical_crossentropy',           # Uncomment this line if you want to use multi-label categorical crossentropy labels\n",
    "    #label_mode = 'multi_label_sparse_categorical_crossentropy',    # Uncomment this line if you want to use multi-label sparse categorical crossentropy labels\n",
    "    #label_mode = 'multi_label_binary_crossentropy',                 # Uncomment this line if you want to use multi-label binary crossentropy labels           \n",
    "    batch_size=32,\n",
    "    image_size=(256,256)\n",
    ")\n",
    "\n",
    "validation_ds = keras.utils.image_dataset_from_directory(\n",
    "    directory = 'Covid19-dataset/test',\n",
    "    labels='inferred',\n",
    "    label_mode = 'int',\n",
    "    batch_size=32,\n",
    "    image_size=(256,256)\n",
    ")"
   ]
  },
  {
   "cell_type": "markdown",
   "metadata": {},
   "source": [
    "## **Normalization** : Normalizing image pixel values and applying the transformation to both the training and validation datasets.\n",
    "✅ **Function process**\n",
    "- **` image / 255.: `** Pixel values in images typically range from 0 to 255. This line scales them to a range of [0, 1], which helps neural networks converge faster during training.\n",
    "- **` tf.cast(..., tf.float32): `** Ensures the image tensor is of type float32 (required by TensorFlow models).\n",
    "- Returns a tuple (normalized_image, label).\n",
    "\n",
    "🧠 **Why normalization?**\n",
    "- Prevents large input values from dominating gradient updates.\n",
    "- Helps the model learn faster and generalize better.\n",
    "- Essential for stable training of deep networks."
   ]
  },
  {
   "cell_type": "code",
   "execution_count": 177,
   "metadata": {},
   "outputs": [],
   "source": [
    "# Normalize or standardize().\n",
    "def process(image,label):\n",
    "    image = tf.cast(image/255. ,tf.float32)\n",
    "    return image,label\n",
    "\n",
    "train_ds = train_ds.map(process)\n",
    "validation_ds = validation_ds.map(process)"
   ]
  },
  {
   "cell_type": "markdown",
   "metadata": {},
   "source": [
    "# NOTE : \n",
    "#### When using ImageDataGenerator with rescale=1./255, you're already normalizing the pixel values to the [0, 1] range. So there's no need for additional normalization afterward.\n",
    "\n",
    "**Here’s a quick breakdown**:\n",
    "\n",
    "**What rescale=1./255 Does:** \n",
    "- Converts pixel values from [0, 255] to [0.0, 1.0]\n",
    "- This is sufficient for most CNN models using ReLU activations and standard architectures\n",
    "\n",
    "- When You Might Normalize Again\n",
    "- You’d only need further normalization if:\n",
    "- You're using a pretrained model like VGG, ResNet, etc., that expects specific preprocessing (e.g., mean subtraction)\n",
    "- You're switching to image_dataset_from_directory, which loads raw pixel values unless you manually normalize"
   ]
  },
  {
   "cell_type": "markdown",
   "metadata": {},
   "source": [
    "# How to build CNN Architecture"
   ]
  },
  {
   "cell_type": "markdown",
   "metadata": {},
   "source": [
    "---\n",
    "\n",
    "### **Sequential API**:\n",
    "\n",
    "```python\n",
    "model = Sequential()\n",
    "model.add(Conv2D(32, kernel_size=(3,3), padding='valid', activation='relu', input_shape=(256,256,3)))\n",
    "```\n",
    "\n",
    "###  **Functional API**:\n",
    "\n",
    "```python\n",
    "input_layer = Input(shape=(256, 256, 3))\n",
    "x = Conv2D(32, kernel_size=(3, 3), padding='valid', activation='relu')(input_layer)\n",
    "model = Model(inputs=input_layer, outputs=x)\n",
    "```\n",
    "\n",
    "---\n",
    "\n",
    "##  Comparison\n",
    "\n",
    "| Feature / Aspect         | **Sequential API**                          | **Functional API**                                     |\n",
    "| ------------------------ | ------------------------------------------- | ------------------------------------------------------ |\n",
    "| 🔧 **Usage**             | Quick and easy for simple stack of layers   | Used for more complex, non-linear architectures        |\n",
    "| 📤 **Input Layer**       | Defined inside `Conv2D` via `input_shape`   | Defined explicitly using `Input(...)`                  |\n",
    "| 🧠 **Flexibility**       | Limited — one input/output, linear model    | High — multiple inputs/outputs, skip connections, etc. |\n",
    "| 🔁 **Layer Reusability** | Hard to reuse layers                        | Easy — layers are just functions on tensors            |\n",
    "| 🔌 **Custom models**     | Not suitable for branching or shared layers | Perfect for residuals, attention, multi-modal inputs   |\n",
    "| ✅ **Best for**           | Quick prototypes, beginner-level models     | Production models, research, complex architectures     |\n",
    "\n",
    "\n",
    "##  When to Use What?\n",
    "\n",
    "### Use **Sequential API**:\n",
    "\n",
    "* If your model is a simple **stack of layers** from input to output.\n",
    "* For **fast prototyping**.\n",
    "\n",
    "### Use **Functional API**:\n",
    "\n",
    "* If you need **more control** over how layers are connected.\n",
    "* For models with:\n",
    "\n",
    "  * **Multiple inputs or outputs**\n",
    "  * **Skip connections (e.g., ResNet)**\n",
    "  * **Shared layers (e.g., Siamese networks)**\n",
    "\n",
    "\n",
    "###  Output Shape Equivalence?\n",
    "\n",
    "Yes — in both examples, if input shape is `(256, 256, 3)`, output shape from the Conv2D layer will be:\n",
    "\n",
    "```\n",
    "(254, 254, 32) → due to valid padding and kernel size (3x3)\n",
    "```\n",
    "\n",
    "###  Summary\n",
    "\n",
    "\\| Want simplicity? | → Use `Sequential()` + `.add(...)` |\n",
    "\\| Need flexibility? | → Use `Input(...)` + `Model(...)` |"
   ]
  },
  {
   "cell_type": "code",
   "execution_count": 178,
   "metadata": {
    "colab": {
     "base_uri": "https://localhost:8080/"
    },
    "executionInfo": {
     "elapsed": 896,
     "status": "ok",
     "timestamp": 1729748375793,
     "user": {
      "displayName": "Arihant Jain",
      "userId": "00542987843204554606"
     },
     "user_tz": -330
    },
    "id": "0VNMrF6oXMiN",
    "outputId": "c34e1efd-3dcd-4cc0-c5ad-4034cd54de47"
   },
   "outputs": [
    {
     "name": "stderr",
     "output_type": "stream",
     "text": [
      "c:\\DataScience\\tensor_python310\\Lib\\site-packages\\keras\\src\\layers\\convolutional\\base_conv.py:113: UserWarning: Do not pass an `input_shape`/`input_dim` argument to a layer. When using Sequential models, prefer using an `Input(shape)` object as the first layer in the model instead.\n",
      "  super().__init__(activity_regularizer=activity_regularizer, **kwargs)\n"
     ]
    },
    {
     "name": "stdout",
     "output_type": "stream",
     "text": [
      "Layer1 (None, 256, 256, 3)\n",
      "Layer2 (None, 256, 256, 3)\n",
      "Layer3 (None, 256, 256, 3)\n",
      "Flatten (None, 256, 256, 3)\n",
      "Final (None, 256, 256, 3)\n"
     ]
    }
   ],
   "source": [
    "# create CNN model\n",
    "# CNN Architecture ()\n",
    "from tensorflow.keras.layers import Input, Conv2D, Normalization, MaxPooling2D, Flatten, Dense, Dropout\n",
    "from tensorflow.keras.models import Sequential\n",
    "from tensorflow.keras.layers import BatchNormalization\n",
    "from tensorflow.keras.models import Model\n",
    "\n",
    "# Simple CNN Model\n",
    "# This is a simple CNN model for image classification.\n",
    "# It consists of several convolutional layers followed by max pooling and dense layers.\n",
    "# The model is designed to classify images into two classes: Covid and Normal.\n",
    "\n",
    "from tensorflow.keras import backend as K\n",
    "K.clear_session()\n",
    "\n",
    "#Layer1\n",
    "model = Sequential()\n",
    "model.add(Conv2D(32, kernel_size=(3,3), padding='same', activation='relu', input_shape=(256,256,3)))\n",
    "\n",
    "# Complete the model architecture\n",
    "# The model consists of several convolutional layers followed by max pooling and dense layers.\n",
    "# Each convolutional layer is followed by batch normalization to stabilize the learning process.\n",
    "# The final output layer uses a sigmoid activation function for binary classification.  \n",
    "\n",
    "#input_layer = Input(shape=(256, 256, 3))\n",
    "#x = Conv2D(32, kernel_size=(3, 3), padding='valid', activation='relu')(input_layer)\n",
    "#model = Model(inputs=input_layer, outputs=x)\n",
    "\n",
    "model.add(BatchNormalization())\n",
    "model.add(MaxPooling2D(pool_size=(2,2),strides=2,padding='same'))\n",
    "print(\"Layer1\",model.input_shape)\n",
    "#Layer2\n",
    "model.add(Conv2D(64,kernel_size=(3,3),padding='same',activation='relu'))\n",
    "model.add(BatchNormalization())\n",
    "model.add(MaxPooling2D(pool_size=(2,2),strides=2,padding='same'))\n",
    "print(\"Layer2\",model.input_shape)\n",
    "\n",
    "#Layer3\n",
    "model.add(Conv2D(128,kernel_size=(3,3),padding='same',activation='relu')) # he_normal is a good choice for ReLU activations\n",
    "model.add(BatchNormalization())\n",
    "model.add(MaxPooling2D(pool_size=(2,2),strides=2,padding='same'))\n",
    "print(\"Layer3\",model.input_shape)\n",
    "\n",
    "model.add(Flatten())\n",
    "print(\"Flatten\",model.input_shape)\n",
    "\n",
    "# ANN Architecture\n",
    "model.add(Dropout(0.2))\n",
    "model.add(Dense(256,activation='relu'))\n",
    "model.add(Dropout(0.2))\n",
    "model.add(Dense(128,activation='relu'))\n",
    "model.add(Dropout(0.2))\n",
    "model.add(Dense(64,activation='relu'))\n",
    "model.add(Dropout(0.2))\n",
    "model.add(Dense(3,activation='softmax')) # Use 'sigmoid' for binary classification\n",
    "print(\"Final\",model.input_shape)"
   ]
  },
  {
   "cell_type": "code",
   "execution_count": 179,
   "metadata": {},
   "outputs": [
    {
     "data": {
      "text/plain": [
       "(None, 256, 256, 3)"
      ]
     },
     "execution_count": 179,
     "metadata": {},
     "output_type": "execute_result"
    }
   ],
   "source": [
    "model.input_shape"
   ]
  },
  {
   "cell_type": "code",
   "execution_count": 180,
   "metadata": {
    "colab": {
     "base_uri": "https://localhost:8080/",
     "height": 657
    },
    "executionInfo": {
     "elapsed": 885,
     "status": "ok",
     "timestamp": 1729748381588,
     "user": {
      "displayName": "Arihant Jain",
      "userId": "00542987843204554606"
     },
     "user_tz": -330
    },
    "id": "JZHKPhVGXxJ0",
    "outputId": "e39d00f2-a219-4399-9bfb-c46ef5b7d431"
   },
   "outputs": [
    {
     "data": {
      "text/html": [
       "<pre style=\"white-space:pre;overflow-x:auto;line-height:normal;font-family:Menlo,'DejaVu Sans Mono',consolas,'Courier New',monospace\"><span style=\"font-weight: bold\">Model: \"sequential\"</span>\n",
       "</pre>\n"
      ],
      "text/plain": [
       "\u001b[1mModel: \"sequential\"\u001b[0m\n"
      ]
     },
     "metadata": {},
     "output_type": "display_data"
    },
    {
     "data": {
      "text/html": [
       "<pre style=\"white-space:pre;overflow-x:auto;line-height:normal;font-family:Menlo,'DejaVu Sans Mono',consolas,'Courier New',monospace\">┏━━━━━━━━━━━━━━━━━━━━━━━━━━━━━━━━━┳━━━━━━━━━━━━━━━━━━━━━━━━┳━━━━━━━━━━━━━━━┓\n",
       "┃<span style=\"font-weight: bold\"> Layer (type)                    </span>┃<span style=\"font-weight: bold\"> Output Shape           </span>┃<span style=\"font-weight: bold\">       Param # </span>┃\n",
       "┡━━━━━━━━━━━━━━━━━━━━━━━━━━━━━━━━━╇━━━━━━━━━━━━━━━━━━━━━━━━╇━━━━━━━━━━━━━━━┩\n",
       "│ conv2d (<span style=\"color: #0087ff; text-decoration-color: #0087ff\">Conv2D</span>)                 │ (<span style=\"color: #00d7ff; text-decoration-color: #00d7ff\">None</span>, <span style=\"color: #00af00; text-decoration-color: #00af00\">256</span>, <span style=\"color: #00af00; text-decoration-color: #00af00\">256</span>, <span style=\"color: #00af00; text-decoration-color: #00af00\">32</span>)   │           <span style=\"color: #00af00; text-decoration-color: #00af00\">896</span> │\n",
       "├─────────────────────────────────┼────────────────────────┼───────────────┤\n",
       "│ batch_normalization             │ (<span style=\"color: #00d7ff; text-decoration-color: #00d7ff\">None</span>, <span style=\"color: #00af00; text-decoration-color: #00af00\">256</span>, <span style=\"color: #00af00; text-decoration-color: #00af00\">256</span>, <span style=\"color: #00af00; text-decoration-color: #00af00\">32</span>)   │           <span style=\"color: #00af00; text-decoration-color: #00af00\">128</span> │\n",
       "│ (<span style=\"color: #0087ff; text-decoration-color: #0087ff\">BatchNormalization</span>)            │                        │               │\n",
       "├─────────────────────────────────┼────────────────────────┼───────────────┤\n",
       "│ max_pooling2d (<span style=\"color: #0087ff; text-decoration-color: #0087ff\">MaxPooling2D</span>)    │ (<span style=\"color: #00d7ff; text-decoration-color: #00d7ff\">None</span>, <span style=\"color: #00af00; text-decoration-color: #00af00\">128</span>, <span style=\"color: #00af00; text-decoration-color: #00af00\">128</span>, <span style=\"color: #00af00; text-decoration-color: #00af00\">32</span>)   │             <span style=\"color: #00af00; text-decoration-color: #00af00\">0</span> │\n",
       "├─────────────────────────────────┼────────────────────────┼───────────────┤\n",
       "│ conv2d_1 (<span style=\"color: #0087ff; text-decoration-color: #0087ff\">Conv2D</span>)               │ (<span style=\"color: #00d7ff; text-decoration-color: #00d7ff\">None</span>, <span style=\"color: #00af00; text-decoration-color: #00af00\">128</span>, <span style=\"color: #00af00; text-decoration-color: #00af00\">128</span>, <span style=\"color: #00af00; text-decoration-color: #00af00\">64</span>)   │        <span style=\"color: #00af00; text-decoration-color: #00af00\">18,496</span> │\n",
       "├─────────────────────────────────┼────────────────────────┼───────────────┤\n",
       "│ batch_normalization_1           │ (<span style=\"color: #00d7ff; text-decoration-color: #00d7ff\">None</span>, <span style=\"color: #00af00; text-decoration-color: #00af00\">128</span>, <span style=\"color: #00af00; text-decoration-color: #00af00\">128</span>, <span style=\"color: #00af00; text-decoration-color: #00af00\">64</span>)   │           <span style=\"color: #00af00; text-decoration-color: #00af00\">256</span> │\n",
       "│ (<span style=\"color: #0087ff; text-decoration-color: #0087ff\">BatchNormalization</span>)            │                        │               │\n",
       "├─────────────────────────────────┼────────────────────────┼───────────────┤\n",
       "│ max_pooling2d_1 (<span style=\"color: #0087ff; text-decoration-color: #0087ff\">MaxPooling2D</span>)  │ (<span style=\"color: #00d7ff; text-decoration-color: #00d7ff\">None</span>, <span style=\"color: #00af00; text-decoration-color: #00af00\">64</span>, <span style=\"color: #00af00; text-decoration-color: #00af00\">64</span>, <span style=\"color: #00af00; text-decoration-color: #00af00\">64</span>)     │             <span style=\"color: #00af00; text-decoration-color: #00af00\">0</span> │\n",
       "├─────────────────────────────────┼────────────────────────┼───────────────┤\n",
       "│ conv2d_2 (<span style=\"color: #0087ff; text-decoration-color: #0087ff\">Conv2D</span>)               │ (<span style=\"color: #00d7ff; text-decoration-color: #00d7ff\">None</span>, <span style=\"color: #00af00; text-decoration-color: #00af00\">64</span>, <span style=\"color: #00af00; text-decoration-color: #00af00\">64</span>, <span style=\"color: #00af00; text-decoration-color: #00af00\">128</span>)    │        <span style=\"color: #00af00; text-decoration-color: #00af00\">73,856</span> │\n",
       "├─────────────────────────────────┼────────────────────────┼───────────────┤\n",
       "│ batch_normalization_2           │ (<span style=\"color: #00d7ff; text-decoration-color: #00d7ff\">None</span>, <span style=\"color: #00af00; text-decoration-color: #00af00\">64</span>, <span style=\"color: #00af00; text-decoration-color: #00af00\">64</span>, <span style=\"color: #00af00; text-decoration-color: #00af00\">128</span>)    │           <span style=\"color: #00af00; text-decoration-color: #00af00\">512</span> │\n",
       "│ (<span style=\"color: #0087ff; text-decoration-color: #0087ff\">BatchNormalization</span>)            │                        │               │\n",
       "├─────────────────────────────────┼────────────────────────┼───────────────┤\n",
       "│ max_pooling2d_2 (<span style=\"color: #0087ff; text-decoration-color: #0087ff\">MaxPooling2D</span>)  │ (<span style=\"color: #00d7ff; text-decoration-color: #00d7ff\">None</span>, <span style=\"color: #00af00; text-decoration-color: #00af00\">32</span>, <span style=\"color: #00af00; text-decoration-color: #00af00\">32</span>, <span style=\"color: #00af00; text-decoration-color: #00af00\">128</span>)    │             <span style=\"color: #00af00; text-decoration-color: #00af00\">0</span> │\n",
       "├─────────────────────────────────┼────────────────────────┼───────────────┤\n",
       "│ flatten (<span style=\"color: #0087ff; text-decoration-color: #0087ff\">Flatten</span>)               │ (<span style=\"color: #00d7ff; text-decoration-color: #00d7ff\">None</span>, <span style=\"color: #00af00; text-decoration-color: #00af00\">131072</span>)         │             <span style=\"color: #00af00; text-decoration-color: #00af00\">0</span> │\n",
       "├─────────────────────────────────┼────────────────────────┼───────────────┤\n",
       "│ dropout (<span style=\"color: #0087ff; text-decoration-color: #0087ff\">Dropout</span>)               │ (<span style=\"color: #00d7ff; text-decoration-color: #00d7ff\">None</span>, <span style=\"color: #00af00; text-decoration-color: #00af00\">131072</span>)         │             <span style=\"color: #00af00; text-decoration-color: #00af00\">0</span> │\n",
       "├─────────────────────────────────┼────────────────────────┼───────────────┤\n",
       "│ dense (<span style=\"color: #0087ff; text-decoration-color: #0087ff\">Dense</span>)                   │ (<span style=\"color: #00d7ff; text-decoration-color: #00d7ff\">None</span>, <span style=\"color: #00af00; text-decoration-color: #00af00\">256</span>)            │    <span style=\"color: #00af00; text-decoration-color: #00af00\">33,554,688</span> │\n",
       "├─────────────────────────────────┼────────────────────────┼───────────────┤\n",
       "│ dropout_1 (<span style=\"color: #0087ff; text-decoration-color: #0087ff\">Dropout</span>)             │ (<span style=\"color: #00d7ff; text-decoration-color: #00d7ff\">None</span>, <span style=\"color: #00af00; text-decoration-color: #00af00\">256</span>)            │             <span style=\"color: #00af00; text-decoration-color: #00af00\">0</span> │\n",
       "├─────────────────────────────────┼────────────────────────┼───────────────┤\n",
       "│ dense_1 (<span style=\"color: #0087ff; text-decoration-color: #0087ff\">Dense</span>)                 │ (<span style=\"color: #00d7ff; text-decoration-color: #00d7ff\">None</span>, <span style=\"color: #00af00; text-decoration-color: #00af00\">128</span>)            │        <span style=\"color: #00af00; text-decoration-color: #00af00\">32,896</span> │\n",
       "├─────────────────────────────────┼────────────────────────┼───────────────┤\n",
       "│ dropout_2 (<span style=\"color: #0087ff; text-decoration-color: #0087ff\">Dropout</span>)             │ (<span style=\"color: #00d7ff; text-decoration-color: #00d7ff\">None</span>, <span style=\"color: #00af00; text-decoration-color: #00af00\">128</span>)            │             <span style=\"color: #00af00; text-decoration-color: #00af00\">0</span> │\n",
       "├─────────────────────────────────┼────────────────────────┼───────────────┤\n",
       "│ dense_2 (<span style=\"color: #0087ff; text-decoration-color: #0087ff\">Dense</span>)                 │ (<span style=\"color: #00d7ff; text-decoration-color: #00d7ff\">None</span>, <span style=\"color: #00af00; text-decoration-color: #00af00\">64</span>)             │         <span style=\"color: #00af00; text-decoration-color: #00af00\">8,256</span> │\n",
       "├─────────────────────────────────┼────────────────────────┼───────────────┤\n",
       "│ dropout_3 (<span style=\"color: #0087ff; text-decoration-color: #0087ff\">Dropout</span>)             │ (<span style=\"color: #00d7ff; text-decoration-color: #00d7ff\">None</span>, <span style=\"color: #00af00; text-decoration-color: #00af00\">64</span>)             │             <span style=\"color: #00af00; text-decoration-color: #00af00\">0</span> │\n",
       "├─────────────────────────────────┼────────────────────────┼───────────────┤\n",
       "│ dense_3 (<span style=\"color: #0087ff; text-decoration-color: #0087ff\">Dense</span>)                 │ (<span style=\"color: #00d7ff; text-decoration-color: #00d7ff\">None</span>, <span style=\"color: #00af00; text-decoration-color: #00af00\">3</span>)              │           <span style=\"color: #00af00; text-decoration-color: #00af00\">195</span> │\n",
       "└─────────────────────────────────┴────────────────────────┴───────────────┘\n",
       "</pre>\n"
      ],
      "text/plain": [
       "┏━━━━━━━━━━━━━━━━━━━━━━━━━━━━━━━━━┳━━━━━━━━━━━━━━━━━━━━━━━━┳━━━━━━━━━━━━━━━┓\n",
       "┃\u001b[1m \u001b[0m\u001b[1mLayer (type)                   \u001b[0m\u001b[1m \u001b[0m┃\u001b[1m \u001b[0m\u001b[1mOutput Shape          \u001b[0m\u001b[1m \u001b[0m┃\u001b[1m \u001b[0m\u001b[1m      Param #\u001b[0m\u001b[1m \u001b[0m┃\n",
       "┡━━━━━━━━━━━━━━━━━━━━━━━━━━━━━━━━━╇━━━━━━━━━━━━━━━━━━━━━━━━╇━━━━━━━━━━━━━━━┩\n",
       "│ conv2d (\u001b[38;5;33mConv2D\u001b[0m)                 │ (\u001b[38;5;45mNone\u001b[0m, \u001b[38;5;34m256\u001b[0m, \u001b[38;5;34m256\u001b[0m, \u001b[38;5;34m32\u001b[0m)   │           \u001b[38;5;34m896\u001b[0m │\n",
       "├─────────────────────────────────┼────────────────────────┼───────────────┤\n",
       "│ batch_normalization             │ (\u001b[38;5;45mNone\u001b[0m, \u001b[38;5;34m256\u001b[0m, \u001b[38;5;34m256\u001b[0m, \u001b[38;5;34m32\u001b[0m)   │           \u001b[38;5;34m128\u001b[0m │\n",
       "│ (\u001b[38;5;33mBatchNormalization\u001b[0m)            │                        │               │\n",
       "├─────────────────────────────────┼────────────────────────┼───────────────┤\n",
       "│ max_pooling2d (\u001b[38;5;33mMaxPooling2D\u001b[0m)    │ (\u001b[38;5;45mNone\u001b[0m, \u001b[38;5;34m128\u001b[0m, \u001b[38;5;34m128\u001b[0m, \u001b[38;5;34m32\u001b[0m)   │             \u001b[38;5;34m0\u001b[0m │\n",
       "├─────────────────────────────────┼────────────────────────┼───────────────┤\n",
       "│ conv2d_1 (\u001b[38;5;33mConv2D\u001b[0m)               │ (\u001b[38;5;45mNone\u001b[0m, \u001b[38;5;34m128\u001b[0m, \u001b[38;5;34m128\u001b[0m, \u001b[38;5;34m64\u001b[0m)   │        \u001b[38;5;34m18,496\u001b[0m │\n",
       "├─────────────────────────────────┼────────────────────────┼───────────────┤\n",
       "│ batch_normalization_1           │ (\u001b[38;5;45mNone\u001b[0m, \u001b[38;5;34m128\u001b[0m, \u001b[38;5;34m128\u001b[0m, \u001b[38;5;34m64\u001b[0m)   │           \u001b[38;5;34m256\u001b[0m │\n",
       "│ (\u001b[38;5;33mBatchNormalization\u001b[0m)            │                        │               │\n",
       "├─────────────────────────────────┼────────────────────────┼───────────────┤\n",
       "│ max_pooling2d_1 (\u001b[38;5;33mMaxPooling2D\u001b[0m)  │ (\u001b[38;5;45mNone\u001b[0m, \u001b[38;5;34m64\u001b[0m, \u001b[38;5;34m64\u001b[0m, \u001b[38;5;34m64\u001b[0m)     │             \u001b[38;5;34m0\u001b[0m │\n",
       "├─────────────────────────────────┼────────────────────────┼───────────────┤\n",
       "│ conv2d_2 (\u001b[38;5;33mConv2D\u001b[0m)               │ (\u001b[38;5;45mNone\u001b[0m, \u001b[38;5;34m64\u001b[0m, \u001b[38;5;34m64\u001b[0m, \u001b[38;5;34m128\u001b[0m)    │        \u001b[38;5;34m73,856\u001b[0m │\n",
       "├─────────────────────────────────┼────────────────────────┼───────────────┤\n",
       "│ batch_normalization_2           │ (\u001b[38;5;45mNone\u001b[0m, \u001b[38;5;34m64\u001b[0m, \u001b[38;5;34m64\u001b[0m, \u001b[38;5;34m128\u001b[0m)    │           \u001b[38;5;34m512\u001b[0m │\n",
       "│ (\u001b[38;5;33mBatchNormalization\u001b[0m)            │                        │               │\n",
       "├─────────────────────────────────┼────────────────────────┼───────────────┤\n",
       "│ max_pooling2d_2 (\u001b[38;5;33mMaxPooling2D\u001b[0m)  │ (\u001b[38;5;45mNone\u001b[0m, \u001b[38;5;34m32\u001b[0m, \u001b[38;5;34m32\u001b[0m, \u001b[38;5;34m128\u001b[0m)    │             \u001b[38;5;34m0\u001b[0m │\n",
       "├─────────────────────────────────┼────────────────────────┼───────────────┤\n",
       "│ flatten (\u001b[38;5;33mFlatten\u001b[0m)               │ (\u001b[38;5;45mNone\u001b[0m, \u001b[38;5;34m131072\u001b[0m)         │             \u001b[38;5;34m0\u001b[0m │\n",
       "├─────────────────────────────────┼────────────────────────┼───────────────┤\n",
       "│ dropout (\u001b[38;5;33mDropout\u001b[0m)               │ (\u001b[38;5;45mNone\u001b[0m, \u001b[38;5;34m131072\u001b[0m)         │             \u001b[38;5;34m0\u001b[0m │\n",
       "├─────────────────────────────────┼────────────────────────┼───────────────┤\n",
       "│ dense (\u001b[38;5;33mDense\u001b[0m)                   │ (\u001b[38;5;45mNone\u001b[0m, \u001b[38;5;34m256\u001b[0m)            │    \u001b[38;5;34m33,554,688\u001b[0m │\n",
       "├─────────────────────────────────┼────────────────────────┼───────────────┤\n",
       "│ dropout_1 (\u001b[38;5;33mDropout\u001b[0m)             │ (\u001b[38;5;45mNone\u001b[0m, \u001b[38;5;34m256\u001b[0m)            │             \u001b[38;5;34m0\u001b[0m │\n",
       "├─────────────────────────────────┼────────────────────────┼───────────────┤\n",
       "│ dense_1 (\u001b[38;5;33mDense\u001b[0m)                 │ (\u001b[38;5;45mNone\u001b[0m, \u001b[38;5;34m128\u001b[0m)            │        \u001b[38;5;34m32,896\u001b[0m │\n",
       "├─────────────────────────────────┼────────────────────────┼───────────────┤\n",
       "│ dropout_2 (\u001b[38;5;33mDropout\u001b[0m)             │ (\u001b[38;5;45mNone\u001b[0m, \u001b[38;5;34m128\u001b[0m)            │             \u001b[38;5;34m0\u001b[0m │\n",
       "├─────────────────────────────────┼────────────────────────┼───────────────┤\n",
       "│ dense_2 (\u001b[38;5;33mDense\u001b[0m)                 │ (\u001b[38;5;45mNone\u001b[0m, \u001b[38;5;34m64\u001b[0m)             │         \u001b[38;5;34m8,256\u001b[0m │\n",
       "├─────────────────────────────────┼────────────────────────┼───────────────┤\n",
       "│ dropout_3 (\u001b[38;5;33mDropout\u001b[0m)             │ (\u001b[38;5;45mNone\u001b[0m, \u001b[38;5;34m64\u001b[0m)             │             \u001b[38;5;34m0\u001b[0m │\n",
       "├─────────────────────────────────┼────────────────────────┼───────────────┤\n",
       "│ dense_3 (\u001b[38;5;33mDense\u001b[0m)                 │ (\u001b[38;5;45mNone\u001b[0m, \u001b[38;5;34m3\u001b[0m)              │           \u001b[38;5;34m195\u001b[0m │\n",
       "└─────────────────────────────────┴────────────────────────┴───────────────┘\n"
      ]
     },
     "metadata": {},
     "output_type": "display_data"
    },
    {
     "data": {
      "text/html": [
       "<pre style=\"white-space:pre;overflow-x:auto;line-height:normal;font-family:Menlo,'DejaVu Sans Mono',consolas,'Courier New',monospace\"><span style=\"font-weight: bold\"> Total params: </span><span style=\"color: #00af00; text-decoration-color: #00af00\">33,690,179</span> (128.52 MB)\n",
       "</pre>\n"
      ],
      "text/plain": [
       "\u001b[1m Total params: \u001b[0m\u001b[38;5;34m33,690,179\u001b[0m (128.52 MB)\n"
      ]
     },
     "metadata": {},
     "output_type": "display_data"
    },
    {
     "data": {
      "text/html": [
       "<pre style=\"white-space:pre;overflow-x:auto;line-height:normal;font-family:Menlo,'DejaVu Sans Mono',consolas,'Courier New',monospace\"><span style=\"font-weight: bold\"> Trainable params: </span><span style=\"color: #00af00; text-decoration-color: #00af00\">33,689,731</span> (128.52 MB)\n",
       "</pre>\n"
      ],
      "text/plain": [
       "\u001b[1m Trainable params: \u001b[0m\u001b[38;5;34m33,689,731\u001b[0m (128.52 MB)\n"
      ]
     },
     "metadata": {},
     "output_type": "display_data"
    },
    {
     "data": {
      "text/html": [
       "<pre style=\"white-space:pre;overflow-x:auto;line-height:normal;font-family:Menlo,'DejaVu Sans Mono',consolas,'Courier New',monospace\"><span style=\"font-weight: bold\"> Non-trainable params: </span><span style=\"color: #00af00; text-decoration-color: #00af00\">448</span> (1.75 KB)\n",
       "</pre>\n"
      ],
      "text/plain": [
       "\u001b[1m Non-trainable params: \u001b[0m\u001b[38;5;34m448\u001b[0m (1.75 KB)\n"
      ]
     },
     "metadata": {},
     "output_type": "display_data"
    }
   ],
   "source": [
    "model.summary()"
   ]
  },
  {
   "cell_type": "markdown",
   "metadata": {},
   "source": []
  },
  {
   "cell_type": "markdown",
   "metadata": {},
   "source": [
    "### 🧩 `tf.keras.callbacks.ReduceLROnPlateau` Parameters\n",
    "\n",
    "```python\n",
    "tf.keras.callbacks.ReduceLROnPlateau(\n",
    "    monitor='val_loss',\n",
    "    factor=0.1,\n",
    "    patience=10,\n",
    "    verbose=0,\n",
    "    mode='auto',\n",
    "    min_delta=1e-4,\n",
    "    cooldown=0,\n",
    "    min_lr=0,\n",
    ")\n",
    "```\n",
    "\n",
    "---\n",
    "\n",
    "### 📘 Parameter Details\n",
    "\n",
    "| Parameter | Description |\n",
    "|----------|-------------|\n",
    "| **`monitor`** | Metric to monitor (e.g., `'val_loss'`, `'val_accuracy'`). |\n",
    "| **`factor`** | Factor by which the learning rate will be reduced. `new_lr = lr * factor`. |\n",
    "| **`patience`** | Number of epochs with no improvement after which learning rate will be reduced. |\n",
    "| **`verbose`** | Verbosity mode: `0` = silent, `1` = messages when reducing LR. |\n",
    "| **`mode`** | `'auto'`, `'min'`, or `'max'`. Determines whether to look for decreasing or increasing metric values. |\n",
    "| **`min_delta`** | Threshold for measuring the new optimum, to only reduce LR if the improvement is significant. |\n",
    "| **`cooldown`** | Number of epochs to wait after LR has been reduced before resuming normal operation. |\n",
    "| **`min_lr`** | Lower bound on the learning rate. |\n",
    "\n",
    "---\n",
    "\n"
   ]
  },
  {
   "cell_type": "code",
   "execution_count": 181,
   "metadata": {},
   "outputs": [],
   "source": [
    "\n",
    "# Reduce learning rate if validation loss plateaus\n",
    "from keras.callbacks import ReduceLROnPlateau\n",
    "\n",
    "reduce_lr = ReduceLROnPlateau(\n",
    "    monitor='val_loss',\n",
    "    factor=0.2,\n",
    "    patience=50,\n",
    "    min_lr=1e-4,\n",
    "    verbose=1,\n",
    ")"
   ]
  },
  {
   "cell_type": "markdown",
   "metadata": {},
   "source": [
    "### 🧩 `tf.keras.callbacks.EarlyStopping` Parameters\n",
    "\n",
    "```python\n",
    "tf.keras.callbacks.EarlyStopping(\n",
    "    monitor='val_loss',\n",
    "    min_delta=0,\n",
    "    patience=0,\n",
    "    verbose=0,\n",
    "    mode='auto',\n",
    "    baseline=None,\n",
    "    restore_best_weights=False,\n",
    "    start_from_epoch=0\n",
    ")\n",
    "```\n",
    "\n",
    "---\n",
    "\n",
    "### 📘 Parameter Details\n",
    "\n",
    "| Parameter | Description |\n",
    "|----------|-------------|\n",
    "| **`monitor`** | Metric to monitor (e.g., `'val_loss'`, `'val_accuracy'`). |\n",
    "| **`min_delta`** | Minimum change in the monitored metric to qualify as an improvement. |\n",
    "| **`patience`** | Number of epochs with no improvement after which training will be stopped. |\n",
    "| **`verbose`** | Verbosity mode: `0` = silent, `1` = messages when stopping. |\n",
    "| **`mode`** | `'auto'`, `'min'`, or `'max'`. Decides whether to look for increasing or decreasing metric values. |\n",
    "| **`baseline`** | Baseline value for the monitored metric. Training will stop if the model doesn't improve beyond this baseline. |\n",
    "| **`restore_best_weights`** | If `True`, restores model weights from the epoch with the best value of the monitored metric. |\n",
    "| **`start_from_epoch`** | Epoch from which to start monitoring the metric. Useful for skipping early fluctuations. |\n",
    "\n",
    "---"
   ]
  },
  {
   "cell_type": "code",
   "execution_count": 182,
   "metadata": {},
   "outputs": [],
   "source": [
    "from keras.callbacks import EarlyStopping\n",
    "callback = EarlyStopping(\n",
    "    monitor=\"val_loss\",\n",
    "    min_delta=0.00001,\n",
    "    patience=50,\n",
    "    verbose=1,\n",
    "    mode=\"auto\",\n",
    "    baseline=None,\n",
    "    restore_best_weights=True)"
   ]
  },
  {
   "cell_type": "markdown",
   "metadata": {},
   "source": [
    "### 🧩 `tf.keras.callbacks.ModelCheckpoint` Parameters\n",
    "\n",
    "```python\n",
    "tf.keras.callbacks.ModelCheckpoint(\n",
    "    filepath,\n",
    "    monitor='val_loss',\n",
    "    verbose=0,\n",
    "    save_best_only=False,\n",
    "    save_weights_only=False,\n",
    "    mode='auto',\n",
    "    save_freq='epoch',\n",
    "    options=None,\n",
    "    initial_value_threshold=None\n",
    ")\n",
    "```\n",
    "\n",
    "---\n",
    "\n",
    "### 📘 Parameter Details\n",
    "\n",
    "| Parameter | Description |\n",
    "|----------|-------------|\n",
    "| **`filepath`** | String, path to save the model file. Can include formatting options like `{epoch:02d}-{val_loss:.2f}`. |\n",
    "| **`monitor`** | Quantity to monitor (e.g., `'val_loss'`, `'val_accuracy'`). |\n",
    "| **`verbose`** | Verbosity mode: `0` = silent, `1` = messages when saving. |\n",
    "| **`save_best_only`** | If `True`, saves only when the monitored metric improves. |\n",
    "| **`save_weights_only`** | If `True`, only the model’s weights are saved (not the full model). |\n",
    "| **`mode`** | One of `'auto'`, `'min'`, `'max'`. Decides whether to look for increasing or decreasing metric values. |\n",
    "| **`save_freq`** | `'epoch'` or integer. If integer, saves every `save_freq` batches. |\n",
    "| **`options`** | Optional `tf.saved_model.SaveOptions` for saving. |\n",
    "| **`initial_value_threshold`** | Minimum value of the monitored metric to start saving checkpoints. |\n",
    "\n",
    "---"
   ]
  },
  {
   "cell_type": "code",
   "execution_count": 183,
   "metadata": {},
   "outputs": [],
   "source": [
    "from keras.callbacks import ModelCheckpoint\n",
    "checkpoint = ModelCheckpoint(\n",
    "    filepath='best_model.h5',           # where to save the model\n",
    "    monitor='val_loss',                 # metric to monitor\n",
    "    save_best_only=True,               # only save when val_loss improves\n",
    "    save_weights_only=False,           # set True to save weights only\n",
    "    mode='min',                        # 'min' for val_loss, 'max' for accuracy\n",
    "    verbose=1                          # logs when model is saved\n",
    ")"
   ]
  },
  {
   "cell_type": "markdown",
   "metadata": {},
   "source": [
    "\n",
    "### 🧩 `model.compile()` Parameters\n",
    "\n",
    "```python\n",
    "model.compile(\n",
    "    optimizer=None,\n",
    "    loss=None,\n",
    "    metrics=None,\n",
    "    loss_weights=None,\n",
    "    weighted_metrics=None,\n",
    "    run_eagerly=None,\n",
    "    steps_per_execution=None,\n",
    "    jit_compile=None,\n",
    "    **kwargs\n",
    ")\n",
    "```\n",
    "\n",
    "---\n",
    "\n",
    "### 📘 Parameter Details\n",
    "\n",
    "| Parameter             | Description |\n",
    "|----------------------|-------------|\n",
    "| **`optimizer`**       | String name (e.g., `'adam'`) or optimizer instance (e.g., `tf.keras.optimizers.Adam()`). Controls how the model updates weights. |\n",
    "| **`loss`**            | String name (e.g., `'mse'`, `'categorical_crossentropy'`) or a loss function. Defines what the model tries to minimize. |\n",
    "| **`metrics`**         | List of metrics to evaluate during training and testing (e.g., `['accuracy']`). |\n",
    "| **`loss_weights`**    | Optional list or dict specifying scalar coefficients to weight the loss contributions of different model outputs. |\n",
    "| **`weighted_metrics`**| List of metrics to be evaluated and weighted by `sample_weight` or `class_weight` during training. |\n",
    "| **`run_eagerly`**     | Boolean. If `True`, runs the model eagerly instead of using `tf.function`. Useful for debugging. |\n",
    "| **`steps_per_execution`** | Integer. Number of batches to run during each `tf.function` call. Improves performance. |\n",
    "| **`jit_compile`**     | Boolean. If `True`, compiles the model with XLA (Accelerated Linear Algebra) for potential performance gains. |\n",
    "| **`**kwargs`**        | Additional keyword arguments for custom training logic or extensions. |\n",
    "\n",
    "---"
   ]
  },
  {
   "cell_type": "markdown",
   "metadata": {},
   "source": [
    "**Summary**\n",
    "**Metric\tDescription**\n",
    "- accuracy :\tBinary accuracy when used with binary_crossentropy\n",
    "- Precision() :\tHow precise your positive predictions are\n",
    "- Recall() :\tHow many actual positives were captured\n",
    "- AUC() :\tHow well the model separates the two classes"
   ]
  },
  {
   "cell_type": "code",
   "execution_count": 184,
   "metadata": {},
   "outputs": [],
   "source": [
    "from tensorflow.keras import backend as K\n",
    "from tensorflow.keras.metrics import Metric\n",
    "\n",
    "class F1Score(Metric):\n",
    "    def __init__(self, name='f1_score', **kwargs):\n",
    "        super(F1Score, self).__init__(name=name, **kwargs)\n",
    "        self.precision = keras.metrics.Precision()\n",
    "        self.recall = keras.metrics.Recall()\n",
    "\n",
    "    def update_state(self, y_true, y_pred, sample_weight=None):\n",
    "        self.precision.update_state(y_true, y_pred, sample_weight)\n",
    "        self.recall.update_state(y_true, y_pred, sample_weight)\n",
    "\n",
    "    def result(self):\n",
    "        p = self.precision.result()\n",
    "        r = self.recall.result()\n",
    "        return 2 * ((p * r) / (p + r + K.epsilon()))\n",
    "\n",
    "    def reset_states(self):\n",
    "        self.precision.reset_states()\n",
    "        self.recall.reset_states()\n"
   ]
  },
  {
   "cell_type": "code",
   "execution_count": 185,
   "metadata": {},
   "outputs": [],
   "source": [
    "from tensorflow.keras.metrics import Metric\n",
    "import tensorflow as tf\n",
    "\n",
    "class SparseF1Score(Metric):\n",
    "    def __init__(self, name='sparse_f1_score', num_classes=3, **kwargs):\n",
    "        super(SparseF1Score, self).__init__(name=name, **kwargs)\n",
    "        self.num_classes = num_classes\n",
    "        self.true_positives = self.add_weight(name='tp', shape=(num_classes,), initializer='zeros')\n",
    "        self.false_positives = self.add_weight(name='fp', shape=(num_classes,), initializer='zeros')\n",
    "        self.false_negatives = self.add_weight(name='fn', shape=(num_classes,), initializer='zeros')\n",
    "\n",
    "    def update_state(self, y_true, y_pred, sample_weight=None):\n",
    "        # y_true shape: (batch_size,) — integer labels\n",
    "        # y_pred shape: (batch_size, num_classes) — logits or probabilities\n",
    "        y_pred_labels = tf.argmax(y_pred, axis=1)\n",
    "\n",
    "        for i in range(self.num_classes):\n",
    "            y_true_i = tf.equal(y_true, i)\n",
    "            y_pred_i = tf.equal(y_pred_labels, i)\n",
    "\n",
    "            tp = tf.reduce_sum(tf.cast(tf.logical_and(y_true_i, y_pred_i), self.dtype))\n",
    "            fp = tf.reduce_sum(tf.cast(tf.logical_and(tf.logical_not(y_true_i), y_pred_i), self.dtype))\n",
    "            fn = tf.reduce_sum(tf.cast(tf.logical_and(y_true_i, tf.logical_not(y_pred_i)), self.dtype))\n",
    "\n",
    "            self.true_positives[i].assign_add(tp)\n",
    "            self.false_positives[i].assign_add(fp)\n",
    "            self.false_negatives[i].assign_add(fn)\n",
    "\n",
    "    def result(self):\n",
    "        precision = self.true_positives / (self.true_positives + self.false_positives + tf.keras.backend.epsilon())\n",
    "        recall = self.true_positives / (self.true_positives + self.false_negatives + tf.keras.backend.epsilon())\n",
    "        f1 = 2 * precision * recall / (precision + recall + tf.keras.backend.epsilon())\n",
    "        return tf.reduce_mean(f1)\n",
    "\n",
    "    def reset_states(self):\n",
    "        for var in self.variables:\n",
    "            var.assign(tf.zeros_like(var))\n"
   ]
  },
  {
   "cell_type": "code",
   "execution_count": 186,
   "metadata": {},
   "outputs": [],
   "source": [
    "metrics_category = [\n",
    "    'accuracy',\n",
    "    keras.metrics.Precision(),\n",
    "    keras.metrics.Recall(),\n",
    "    keras.metrics.AUC(),\n",
    "    F1Score()\n",
    "]"
   ]
  },
  {
   "cell_type": "code",
   "execution_count": 187,
   "metadata": {},
   "outputs": [],
   "source": [
    "metrics_sparse = [\n",
    "    'accuracy',\n",
    "    keras.metrics.SparseCategoricalAccuracy(),\n",
    "    keras.metrics.SparseCategoricalCrossentropy(),\n",
    "    keras.metrics.AUC()\n",
    "]"
   ]
  },
  {
   "cell_type": "markdown",
   "metadata": {},
   "source": [
    "###  **Optimizers**\n",
    "- **`GD – Stochastic Gradient Descent`**\n",
    "- **`Adam – Adaptive Moment Estimation`**\n",
    "- **`RMSprop – Root Mean Square Propagation`**\n",
    "- **`Adagrad – Adaptive Gradient Algorithm`**\n",
    "- **`Adadelta – An extension of Adagrad`**\n",
    "- **`Adamax – Variant of Adam based on infinity norm`**\n",
    "- **`Nadam – Adam with Nesterov momentum`**\n",
    "- **`Ftrl – Follow The Regularized Leader (less common)`**\n",
    "\n",
    "###  **Loss Functions**\n",
    "\n",
    "#### 🔹 For Classification:\n",
    "- **`binary_crossentropy`** – For binary classification (2 classes)\n",
    "- **`categorical_crossentropy`** – For multi-class classification with one-hot encoded labels\n",
    "- **`sparse_categorical_crossentropy`** – For multi-class classification with integer labels\n",
    "\n",
    "#### 🔹 For Regression:\n",
    "- **`mean_squared_error` (MSE)** – Penalizes larger errors more\n",
    "- **`mean_absolute_error` (MAE)** – Measures average magnitude of errors\n",
    "- **`huber_loss`** – Combines MSE and MAE, robust to outliers\n",
    "\n",
    "#### 🔹 For Custom Tasks:\n",
    "- **`kullback_leibler_divergence`** – Measures how one probability distribution diverges from another\n",
    "- **`cosine_similarity`** – Measures similarity between predicted and true vectors\n",
    "\n",
    "---\n",
    "\n",
    "###  **Metrics**\n",
    "\n",
    "#### 🔹 For Classification:\n",
    "- **`accuracy`** – Overall accuracy\n",
    "- **`binary_accuracy`** – For binary classification\n",
    "- **`categorical_accuracy`** – For multi-class classification\n",
    "- **`precision`**, **`recall`**, **`AUC`** – For more detailed performance analysis\n",
    "\n",
    "#### 🔹 For Regression:\n",
    "- **`mean_squared_error`**\n",
    "- **`mean_absolute_error`**\n",
    "- **`mean_absolute_percentage_error`**\n",
    "- **`RootMeanSquaredError`**"
   ]
  },
  {
   "cell_type": "markdown",
   "metadata": {},
   "source": [
    "# Model Compile"
   ]
  },
  {
   "cell_type": "code",
   "execution_count": 188,
   "metadata": {
    "id": "mUvbCrjHX3kj"
   },
   "outputs": [],
   "source": [
    "model.compile(optimizer=Adam(learning_rate=1e-4),loss='sparse_categorical_crossentropy',metrics=metrics_sparse)"
   ]
  },
  {
   "cell_type": "markdown",
   "metadata": {},
   "source": [
    "### 🧩 `model.fit()` Parameters\n",
    "\n",
    "```python\n",
    "model.fit(\n",
    "    x=None,\n",
    "    y=None,\n",
    "    batch_size=None,\n",
    "    epochs=1,\n",
    "    verbose=1,\n",
    "    callbacks=None,\n",
    "    validation_split=0.0,\n",
    "    validation_data=None,\n",
    "    shuffle=True,\n",
    "    class_weight=None,\n",
    "    sample_weight=None,\n",
    "    initial_epoch=0,\n",
    "    steps_per_epoch=None,\n",
    "    validation_steps=None,\n",
    "    validation_batch_size=None,\n",
    "    validation_freq=1,\n",
    "    max_queue_size=10,\n",
    "    workers=1,\n",
    "    use_multiprocessing=False\n",
    ")\n",
    "```\n",
    "\n",
    "---\n",
    "\n",
    "### 📘 Parameter Details\n",
    "\n",
    "| Parameter | Description |\n",
    "|----------|-------------|\n",
    "| **`x`** | Input data. Can be a NumPy array, TensorFlow tensor, or a dataset. |\n",
    "| **`y`** | Target data (labels). |\n",
    "| **`batch_size`** | Number of samples per gradient update. |\n",
    "| **`epochs`** | Number of times the model is trained on the entire dataset. |\n",
    "| **`verbose`** | Verbosity mode: `0` = silent, `1` = progress bar, `2` = one line per epoch. |\n",
    "| **`callbacks`** | List of Keras callbacks (e.g., `EarlyStopping`, `ModelCheckpoint`). |\n",
    "| **`validation_split`** | Fraction of training data to be used as validation data. |\n",
    "| **`validation_data`** | Data on which to evaluate the loss and metrics at the end of each epoch. |\n",
    "| **`shuffle`** | Whether to shuffle the training data before each epoch. |\n",
    "| **`class_weight`** | Optional dictionary mapping class indices to weights. |\n",
    "| **`sample_weight`** | Optional array of weights for each sample. |\n",
    "| **`initial_epoch`** | Epoch at which to start training (useful for resuming training). |\n",
    "| **`steps_per_epoch`** | Total number of steps (batches of samples) before declaring one epoch finished. |\n",
    "| **`validation_steps`** | Number of steps to run validation for each epoch. |\n",
    "| **`validation_batch_size`** | Batch size used for validation. |\n",
    "| **`validation_freq`** | Frequency (in epochs) at which to evaluate the validation data. |\n",
    "| **`max_queue_size`** | Maximum size for the generator queue. |\n",
    "| **`workers`** | Number of worker threads for data loading. |\n",
    "| **`use_multiprocessing`** | Whether to use multiprocessing for data loading. |\n",
    "\n",
    "---"
   ]
  },
  {
   "cell_type": "code",
   "execution_count": 189,
   "metadata": {},
   "outputs": [
    {
     "name": "stdout",
     "output_type": "stream",
     "text": [
      "sparse\n",
      "sparse\n"
     ]
    }
   ],
   "source": [
    "print(train_generator.class_mode)\n",
    "print(validation_generator.class_mode)"
   ]
  },
  {
   "cell_type": "code",
   "execution_count": 191,
   "metadata": {},
   "outputs": [
    {
     "name": "stdout",
     "output_type": "stream",
     "text": [
      "{'Covid': 0, 'Normal': 1, 'Viral Pneumonia': 2}\n",
      "{'Covid': 0, 'Normal': 1, 'Viral Pneumonia': 2}\n"
     ]
    }
   ],
   "source": [
    "print(train_generator.class_indices)\n",
    "print(train_generator.class_indices)"
   ]
  },
  {
   "cell_type": "markdown",
   "metadata": {},
   "source": [
    "# Class Weight Balancing - Imbalance issue"
   ]
  },
  {
   "cell_type": "code",
   "execution_count": 192,
   "metadata": {},
   "outputs": [],
   "source": [
    "from sklearn.utils.class_weight import compute_class_weight\n",
    "import numpy as np\n",
    "import tensorflow as tf\n",
    "from tensorflow.keras.callbacks import Callback\n",
    "\n",
    "class AutoClassWeight(Callback):\n",
    "    def __init__(self, train_generator):\n",
    "        super().__init__()\n",
    "        self.train_generator = train_generator\n",
    "\n",
    "    def on_epoch_begin(self, epoch, logs=None):\n",
    "        # Extract labels from generator\n",
    "        labels = self.train_generator.classes\n",
    "        classes = np.unique(labels)\n",
    "\n",
    "        # Compute new weights\n",
    "        weights = compute_class_weight(\n",
    "            class_weight='balanced',\n",
    "            classes=classes,\n",
    "            y=labels\n",
    "        )\n",
    "        weights_dict = {int(k): float(v) for k, v in enumerate(weights)}\n",
    "\n",
    "        # Save to model attribute for tracking\n",
    "        self.model.current_class_weights = weights_dict\n",
    "\n",
    "        print(f\"\\n[Epoch {epoch+1}] Auto-updated class weights: {weights_dict}\")\n",
    "\n",
    "    def on_train_batch_begin(self, batch, logs=None):\n",
    "        # Nothing special needed here unless you want per-batch weights\n",
    "        pass\n",
    "\n",
    "    def on_train_batch_end(self, batch, logs=None):\n",
    "        pass\n",
    "\n",
    "auto_weight_cb = AutoClassWeight(train_generator)"
   ]
  },
  {
   "cell_type": "code",
   "execution_count": 194,
   "metadata": {},
   "outputs": [
    {
     "name": "stdout",
     "output_type": "stream",
     "text": [
      "Class Weights: {0: 3.1494454173963806, 1: 1.346057884231537, 2: 0.5155772171253823}\n"
     ]
    }
   ],
   "source": [
    "from sklearn.utils.class_weight import compute_class_weight\n",
    "import numpy as np\n",
    "\n",
    "labels = train_generator.classes\n",
    "class_weights_array = compute_class_weight(\n",
    "    class_weight='balanced',\n",
    "    classes=np.unique(labels),\n",
    "    y=labels\n",
    ")\n",
    "class_weights = {i: float(w) for i, w in enumerate(class_weights_array)}\n",
    "print(\"Class Weights:\", class_weights)\n",
    "\n"
   ]
  },
  {
   "cell_type": "markdown",
   "metadata": {},
   "source": [
    "# Class Distribution"
   ]
  },
  {
   "cell_type": "code",
   "execution_count": 195,
   "metadata": {},
   "outputs": [
    {
     "name": "stdout",
     "output_type": "stream",
     "text": [
      "Train class distribution:\n",
      "[('Covid', 571), ('Normal', 1336), ('Viral Pneumonia', 3488)]\n",
      "\n",
      "Validation class distribution:\n",
      "[('Covid', 142), ('Normal', 337), ('Viral Pneumonia', 875)]\n"
     ]
    }
   ],
   "source": [
    "import os\n",
    "from collections import Counter\n",
    "\n",
    "train_dir = 'Covid19-dataset/train'\n",
    "val_dir = 'Covid19-dataset/test'\n",
    "\n",
    "def get_class_distribution(directory):\n",
    "    classes = []\n",
    "    for class_name in os.listdir(directory):\n",
    "        class_path = os.path.join(directory, class_name)\n",
    "        if os.path.isdir(class_path):\n",
    "            count = len(os.listdir(class_path))\n",
    "            classes.append((class_name, count))\n",
    "    return classes\n",
    "\n",
    "print(\"Train class distribution:\")\n",
    "print(get_class_distribution(train_dir))\n",
    "\n",
    "print(\"\\nValidation class distribution:\")\n",
    "print(get_class_distribution(val_dir))"
   ]
  },
  {
   "cell_type": "code",
   "execution_count": 196,
   "metadata": {},
   "outputs": [
    {
     "name": "stdout",
     "output_type": "stream",
     "text": [
      "Label batch shape: (32,)\n",
      "Label batch dtype: float32\n",
      "Unique labels: [0. 1. 2.]\n",
      "Label batch shape: (32,)\n",
      "Label batch dtype: float32\n",
      "Unique labels: [0. 1. 2.]\n"
     ]
    }
   ],
   "source": [
    "x_batch, y_batch = next(train_generator)\n",
    "print(\"Label batch shape:\", y_batch.shape)\n",
    "print(\"Label batch dtype:\", y_batch.dtype)\n",
    "print(\"Unique labels:\", np.unique(y_batch))\n",
    "\n",
    "x_batch, y_batch = next(validation_generator)\n",
    "print(\"Label batch shape:\", y_batch.shape)\n",
    "print(\"Label batch dtype:\", y_batch.dtype)\n",
    "print(\"Unique labels:\", np.unique(y_batch))\n"
   ]
  },
  {
   "cell_type": "markdown",
   "metadata": {},
   "source": [
    "# Label Validation"
   ]
  },
  {
   "cell_type": "code",
   "execution_count": 197,
   "metadata": {},
   "outputs": [
    {
     "name": "stdout",
     "output_type": "stream",
     "text": [
      "Image batch shape: (32, 256, 256, 3)\n",
      "Label batch shape: (32,)\n",
      "Label example: [1. 1. 1. 2. 2. 2. 2. 2. 2. 1. 2. 1. 2. 1. 2. 1. 2. 2. 0. 2. 2. 2. 1. 1.\n",
      " 2. 1. 2. 2. 2. 1. 2. 2.]\n",
      "Image batch shape: (32, 256, 256, 3)\n",
      "Label batch shape: (32,)\n",
      "Label example: [2. 2. 2. 2. 0. 2. 2. 2. 1. 2. 2. 2. 2. 1. 2. 2. 2. 2. 2. 1. 2. 2. 2. 2.\n",
      " 1. 2. 2. 2. 2. 1. 2. 2.]\n"
     ]
    }
   ],
   "source": [
    "images, labels = next(train_generator)\n",
    "print(\"Image batch shape:\", images.shape)  # e.g. (32, 150, 150, 3)\n",
    "print(\"Label batch shape:\", labels.shape)  # e.g. (32,)\n",
    "print(\"Label example:\", labels)   \n",
    "\n",
    "images, labels = next(validation_generator)\n",
    "print(\"Image batch shape:\", images.shape)  # e.g. (32, 150, 150, 3)\n",
    "print(\"Label batch shape:\", labels.shape)  # e.g. (32,)\n",
    "print(\"Label example:\", labels)  # e.g. [0. 2. 1. 0. 2.]\n"
   ]
  },
  {
   "cell_type": "code",
   "execution_count": 198,
   "metadata": {},
   "outputs": [
    {
     "name": "stdout",
     "output_type": "stream",
     "text": [
      "Output layer units: 3\n",
      "Loss: sparse_categorical_crossentropy\n",
      "class_mode in generator: sparse\n"
     ]
    }
   ],
   "source": [
    "print(\"Output layer units:\", model.layers[-1].units)  # should be 3\n",
    "print(\"Loss:\", model.loss)  # should be 'sparse_categorical_crossentropy'\n",
    "print(\"class_mode in generator:\", train_generator.class_mode)  # should be 'sparse'\n"
   ]
  },
  {
   "cell_type": "code",
   "execution_count": 199,
   "metadata": {},
   "outputs": [
    {
     "name": "stdout",
     "output_type": "stream",
     "text": [
      "y.shape: (32,)\n",
      "y[:5]: [1. 2. 1. 2. 2.]\n",
      "dtype: float32\n"
     ]
    }
   ],
   "source": [
    "x, y = next(train_generator)\n",
    "print(\"y.shape:\", y.shape)\n",
    "print(\"y[:5]:\", y[:5])\n",
    "print(\"dtype:\", y.dtype)"
   ]
  },
  {
   "cell_type": "code",
   "execution_count": 200,
   "metadata": {},
   "outputs": [
    {
     "data": {
      "text/plain": [
       "(None, 256, 256, 3)"
      ]
     },
     "execution_count": 200,
     "metadata": {},
     "output_type": "execute_result"
    }
   ],
   "source": [
    "model.input_shape"
   ]
  },
  {
   "cell_type": "code",
   "execution_count": 201,
   "metadata": {},
   "outputs": [
    {
     "name": "stdout",
     "output_type": "stream",
     "text": [
      "y_batch shape: (32,)\n",
      "y_batch dtype: float32\n"
     ]
    }
   ],
   "source": [
    "print(\"y_batch shape:\", next(iter(train_generator))[1].shape)\n",
    "print(\"y_batch dtype:\", next(iter(train_generator))[1].dtype)\n"
   ]
  },
  {
   "cell_type": "code",
   "execution_count": null,
   "metadata": {},
   "outputs": [
    {
     "name": "stdout",
     "output_type": "stream",
     "text": [
      "Epoch 1/90\n"
     ]
    },
    {
     "ename": "InvalidArgumentError",
     "evalue": "Graph execution error:\n\nDetected at node UnsortedSegmentSum_1 defined at (most recent call last):\n  File \"<frozen runpy>\", line 198, in _run_module_as_main\n\n  File \"<frozen runpy>\", line 88, in _run_code\n\n  File \"c:\\DataScience\\tensor_python310\\Lib\\site-packages\\ipykernel_launcher.py\", line 18, in <module>\n\n  File \"c:\\DataScience\\tensor_python310\\Lib\\site-packages\\traitlets\\config\\application.py\", line 1075, in launch_instance\n\n  File \"c:\\DataScience\\tensor_python310\\Lib\\site-packages\\ipykernel\\kernelapp.py\", line 739, in start\n\n  File \"c:\\DataScience\\tensor_python310\\Lib\\site-packages\\tornado\\platform\\asyncio.py\", line 211, in start\n\n  File \"C:\\Users\\gkpan\\AppData\\Local\\Programs\\Python\\Python311\\Lib\\asyncio\\base_events.py\", line 608, in run_forever\n\n  File \"C:\\Users\\gkpan\\AppData\\Local\\Programs\\Python\\Python311\\Lib\\asyncio\\base_events.py\", line 1936, in _run_once\n\n  File \"C:\\Users\\gkpan\\AppData\\Local\\Programs\\Python\\Python311\\Lib\\asyncio\\events.py\", line 84, in _run\n\n  File \"c:\\DataScience\\tensor_python310\\Lib\\site-packages\\ipykernel\\kernelbase.py\", line 516, in dispatch_queue\n\n  File \"c:\\DataScience\\tensor_python310\\Lib\\site-packages\\ipykernel\\kernelbase.py\", line 505, in process_one\n\n  File \"c:\\DataScience\\tensor_python310\\Lib\\site-packages\\ipykernel\\kernelbase.py\", line 397, in dispatch_shell\n\n  File \"c:\\DataScience\\tensor_python310\\Lib\\site-packages\\ipykernel\\ipkernel.py\", line 368, in execute_request\n\n  File \"c:\\DataScience\\tensor_python310\\Lib\\site-packages\\ipykernel\\kernelbase.py\", line 752, in execute_request\n\n  File \"c:\\DataScience\\tensor_python310\\Lib\\site-packages\\ipykernel\\ipkernel.py\", line 455, in do_execute\n\n  File \"c:\\DataScience\\tensor_python310\\Lib\\site-packages\\ipykernel\\zmqshell.py\", line 577, in run_cell\n\n  File \"c:\\DataScience\\tensor_python310\\Lib\\site-packages\\IPython\\core\\interactiveshell.py\", line 3116, in run_cell\n\n  File \"c:\\DataScience\\tensor_python310\\Lib\\site-packages\\IPython\\core\\interactiveshell.py\", line 3171, in _run_cell\n\n  File \"c:\\DataScience\\tensor_python310\\Lib\\site-packages\\IPython\\core\\async_helpers.py\", line 128, in _pseudo_sync_runner\n\n  File \"c:\\DataScience\\tensor_python310\\Lib\\site-packages\\IPython\\core\\interactiveshell.py\", line 3394, in run_cell_async\n\n  File \"c:\\DataScience\\tensor_python310\\Lib\\site-packages\\IPython\\core\\interactiveshell.py\", line 3639, in run_ast_nodes\n\n  File \"c:\\DataScience\\tensor_python310\\Lib\\site-packages\\IPython\\core\\interactiveshell.py\", line 3699, in run_code\n\n  File \"C:\\Users\\gkpan\\AppData\\Local\\Temp\\ipykernel_29528\\1235929551.py\", line 2, in <module>\n\n  File \"c:\\DataScience\\tensor_python310\\Lib\\site-packages\\keras\\src\\utils\\traceback_utils.py\", line 117, in error_handler\n\n  File \"c:\\DataScience\\tensor_python310\\Lib\\site-packages\\keras\\src\\backend\\tensorflow\\trainer.py\", line 377, in fit\n\n  File \"c:\\DataScience\\tensor_python310\\Lib\\site-packages\\keras\\src\\backend\\tensorflow\\trainer.py\", line 220, in function\n\n  File \"c:\\DataScience\\tensor_python310\\Lib\\site-packages\\keras\\src\\backend\\tensorflow\\trainer.py\", line 133, in multi_step_on_iterator\n\n  File \"c:\\DataScience\\tensor_python310\\Lib\\site-packages\\keras\\src\\backend\\tensorflow\\trainer.py\", line 114, in one_step_on_data\n\n  File \"c:\\DataScience\\tensor_python310\\Lib\\site-packages\\keras\\src\\backend\\tensorflow\\trainer.py\", line 85, in train_step\n\n  File \"c:\\DataScience\\tensor_python310\\Lib\\site-packages\\keras\\src\\trainers\\trainer.py\", line 490, in compute_metrics\n\n  File \"c:\\DataScience\\tensor_python310\\Lib\\site-packages\\keras\\src\\trainers\\compile_utils.py\", line 334, in update_state\n\n  File \"c:\\DataScience\\tensor_python310\\Lib\\site-packages\\keras\\src\\trainers\\compile_utils.py\", line 21, in update_state\n\n  File \"c:\\DataScience\\tensor_python310\\Lib\\site-packages\\keras\\src\\metrics\\confusion_metrics.py\", line 1357, in update_state\n\n  File \"c:\\DataScience\\tensor_python310\\Lib\\site-packages\\keras\\src\\metrics\\metrics_utils.py\", line 484, in update_confusion_matrix_variables\n\n  File \"c:\\DataScience\\tensor_python310\\Lib\\site-packages\\keras\\src\\metrics\\metrics_utils.py\", line 280, in _update_confusion_matrix_variables_optimized\n\n  File \"c:\\DataScience\\tensor_python310\\Lib\\site-packages\\keras\\src\\ops\\math.py\", line 86, in segment_sum\n\n  File \"c:\\DataScience\\tensor_python310\\Lib\\site-packages\\keras\\src\\backend\\tensorflow\\math.py\", line 23, in segment_sum\n\ndata.shape = [32] does not start with segment_ids.shape = [96]\n\t [[{{node UnsortedSegmentSum_1}}]] [Op:__inference_multi_step_on_iterator_981565]",
     "output_type": "error",
     "traceback": [
      "\u001b[31m---------------------------------------------------------------------------\u001b[39m",
      "\u001b[31mInvalidArgumentError\u001b[39m                      Traceback (most recent call last)",
      "\u001b[36mCell\u001b[39m\u001b[36m \u001b[39m\u001b[32mIn[203]\u001b[39m\u001b[32m, line 2\u001b[39m\n\u001b[32m      1\u001b[39m \u001b[38;5;66;03m#Class Weight This helps balance the loss function so the model doesn't ignore minority classes.\u001b[39;00m\n\u001b[32m----> \u001b[39m\u001b[32m2\u001b[39m history = \u001b[43mmodel\u001b[49m\u001b[43m.\u001b[49m\u001b[43mfit\u001b[49m\u001b[43m(\u001b[49m\u001b[43mtrain_ds\u001b[49m\u001b[43m,\u001b[49m\u001b[43mepochs\u001b[49m\u001b[43m=\u001b[49m\u001b[32;43m90\u001b[39;49m\u001b[43m,\u001b[49m\u001b[43mvalidation_data\u001b[49m\u001b[43m=\u001b[49m\u001b[43mvalidation_ds\u001b[49m\u001b[43m,\u001b[49m\u001b[43mcallbacks\u001b[49m\u001b[43m=\u001b[49m\u001b[43m[\u001b[49m\u001b[43mcallback\u001b[49m\u001b[43m,\u001b[49m\u001b[43mcheckpoint\u001b[49m\u001b[43m,\u001b[49m\u001b[43m \u001b[49m\u001b[43mreduce_lr\u001b[49m\u001b[43m]\u001b[49m\u001b[43m,\u001b[49m\u001b[43mclass_weight\u001b[49m\u001b[43m=\u001b[49m\u001b[43mclass_weights\u001b[49m\u001b[43m)\u001b[49m\n\u001b[32m      3\u001b[39m \u001b[38;5;66;03m#history = model.fit(train_generator,epochs=90,validation_data=validation_generator)\u001b[39;00m\n",
      "\u001b[36mFile \u001b[39m\u001b[32mc:\\DataScience\\tensor_python310\\Lib\\site-packages\\keras\\src\\utils\\traceback_utils.py:122\u001b[39m, in \u001b[36mfilter_traceback.<locals>.error_handler\u001b[39m\u001b[34m(*args, **kwargs)\u001b[39m\n\u001b[32m    119\u001b[39m     filtered_tb = _process_traceback_frames(e.__traceback__)\n\u001b[32m    120\u001b[39m     \u001b[38;5;66;03m# To get the full stack trace, call:\u001b[39;00m\n\u001b[32m    121\u001b[39m     \u001b[38;5;66;03m# `keras.config.disable_traceback_filtering()`\u001b[39;00m\n\u001b[32m--> \u001b[39m\u001b[32m122\u001b[39m     \u001b[38;5;28;01mraise\u001b[39;00m e.with_traceback(filtered_tb) \u001b[38;5;28;01mfrom\u001b[39;00m\u001b[38;5;250m \u001b[39m\u001b[38;5;28;01mNone\u001b[39;00m\n\u001b[32m    123\u001b[39m \u001b[38;5;28;01mfinally\u001b[39;00m:\n\u001b[32m    124\u001b[39m     \u001b[38;5;28;01mdel\u001b[39;00m filtered_tb\n",
      "\u001b[36mFile \u001b[39m\u001b[32mc:\\DataScience\\tensor_python310\\Lib\\site-packages\\tensorflow\\python\\eager\\execute.py:53\u001b[39m, in \u001b[36mquick_execute\u001b[39m\u001b[34m(op_name, num_outputs, inputs, attrs, ctx, name)\u001b[39m\n\u001b[32m     51\u001b[39m \u001b[38;5;28;01mtry\u001b[39;00m:\n\u001b[32m     52\u001b[39m   ctx.ensure_initialized()\n\u001b[32m---> \u001b[39m\u001b[32m53\u001b[39m   tensors = pywrap_tfe.TFE_Py_Execute(ctx._handle, device_name, op_name,\n\u001b[32m     54\u001b[39m                                       inputs, attrs, num_outputs)\n\u001b[32m     55\u001b[39m \u001b[38;5;28;01mexcept\u001b[39;00m core._NotOkStatusException \u001b[38;5;28;01mas\u001b[39;00m e:\n\u001b[32m     56\u001b[39m   \u001b[38;5;28;01mif\u001b[39;00m name \u001b[38;5;129;01mis\u001b[39;00m \u001b[38;5;129;01mnot\u001b[39;00m \u001b[38;5;28;01mNone\u001b[39;00m:\n",
      "\u001b[31mInvalidArgumentError\u001b[39m: Graph execution error:\n\nDetected at node UnsortedSegmentSum_1 defined at (most recent call last):\n  File \"<frozen runpy>\", line 198, in _run_module_as_main\n\n  File \"<frozen runpy>\", line 88, in _run_code\n\n  File \"c:\\DataScience\\tensor_python310\\Lib\\site-packages\\ipykernel_launcher.py\", line 18, in <module>\n\n  File \"c:\\DataScience\\tensor_python310\\Lib\\site-packages\\traitlets\\config\\application.py\", line 1075, in launch_instance\n\n  File \"c:\\DataScience\\tensor_python310\\Lib\\site-packages\\ipykernel\\kernelapp.py\", line 739, in start\n\n  File \"c:\\DataScience\\tensor_python310\\Lib\\site-packages\\tornado\\platform\\asyncio.py\", line 211, in start\n\n  File \"C:\\Users\\gkpan\\AppData\\Local\\Programs\\Python\\Python311\\Lib\\asyncio\\base_events.py\", line 608, in run_forever\n\n  File \"C:\\Users\\gkpan\\AppData\\Local\\Programs\\Python\\Python311\\Lib\\asyncio\\base_events.py\", line 1936, in _run_once\n\n  File \"C:\\Users\\gkpan\\AppData\\Local\\Programs\\Python\\Python311\\Lib\\asyncio\\events.py\", line 84, in _run\n\n  File \"c:\\DataScience\\tensor_python310\\Lib\\site-packages\\ipykernel\\kernelbase.py\", line 516, in dispatch_queue\n\n  File \"c:\\DataScience\\tensor_python310\\Lib\\site-packages\\ipykernel\\kernelbase.py\", line 505, in process_one\n\n  File \"c:\\DataScience\\tensor_python310\\Lib\\site-packages\\ipykernel\\kernelbase.py\", line 397, in dispatch_shell\n\n  File \"c:\\DataScience\\tensor_python310\\Lib\\site-packages\\ipykernel\\ipkernel.py\", line 368, in execute_request\n\n  File \"c:\\DataScience\\tensor_python310\\Lib\\site-packages\\ipykernel\\kernelbase.py\", line 752, in execute_request\n\n  File \"c:\\DataScience\\tensor_python310\\Lib\\site-packages\\ipykernel\\ipkernel.py\", line 455, in do_execute\n\n  File \"c:\\DataScience\\tensor_python310\\Lib\\site-packages\\ipykernel\\zmqshell.py\", line 577, in run_cell\n\n  File \"c:\\DataScience\\tensor_python310\\Lib\\site-packages\\IPython\\core\\interactiveshell.py\", line 3116, in run_cell\n\n  File \"c:\\DataScience\\tensor_python310\\Lib\\site-packages\\IPython\\core\\interactiveshell.py\", line 3171, in _run_cell\n\n  File \"c:\\DataScience\\tensor_python310\\Lib\\site-packages\\IPython\\core\\async_helpers.py\", line 128, in _pseudo_sync_runner\n\n  File \"c:\\DataScience\\tensor_python310\\Lib\\site-packages\\IPython\\core\\interactiveshell.py\", line 3394, in run_cell_async\n\n  File \"c:\\DataScience\\tensor_python310\\Lib\\site-packages\\IPython\\core\\interactiveshell.py\", line 3639, in run_ast_nodes\n\n  File \"c:\\DataScience\\tensor_python310\\Lib\\site-packages\\IPython\\core\\interactiveshell.py\", line 3699, in run_code\n\n  File \"C:\\Users\\gkpan\\AppData\\Local\\Temp\\ipykernel_29528\\1235929551.py\", line 2, in <module>\n\n  File \"c:\\DataScience\\tensor_python310\\Lib\\site-packages\\keras\\src\\utils\\traceback_utils.py\", line 117, in error_handler\n\n  File \"c:\\DataScience\\tensor_python310\\Lib\\site-packages\\keras\\src\\backend\\tensorflow\\trainer.py\", line 377, in fit\n\n  File \"c:\\DataScience\\tensor_python310\\Lib\\site-packages\\keras\\src\\backend\\tensorflow\\trainer.py\", line 220, in function\n\n  File \"c:\\DataScience\\tensor_python310\\Lib\\site-packages\\keras\\src\\backend\\tensorflow\\trainer.py\", line 133, in multi_step_on_iterator\n\n  File \"c:\\DataScience\\tensor_python310\\Lib\\site-packages\\keras\\src\\backend\\tensorflow\\trainer.py\", line 114, in one_step_on_data\n\n  File \"c:\\DataScience\\tensor_python310\\Lib\\site-packages\\keras\\src\\backend\\tensorflow\\trainer.py\", line 85, in train_step\n\n  File \"c:\\DataScience\\tensor_python310\\Lib\\site-packages\\keras\\src\\trainers\\trainer.py\", line 490, in compute_metrics\n\n  File \"c:\\DataScience\\tensor_python310\\Lib\\site-packages\\keras\\src\\trainers\\compile_utils.py\", line 334, in update_state\n\n  File \"c:\\DataScience\\tensor_python310\\Lib\\site-packages\\keras\\src\\trainers\\compile_utils.py\", line 21, in update_state\n\n  File \"c:\\DataScience\\tensor_python310\\Lib\\site-packages\\keras\\src\\metrics\\confusion_metrics.py\", line 1357, in update_state\n\n  File \"c:\\DataScience\\tensor_python310\\Lib\\site-packages\\keras\\src\\metrics\\metrics_utils.py\", line 484, in update_confusion_matrix_variables\n\n  File \"c:\\DataScience\\tensor_python310\\Lib\\site-packages\\keras\\src\\metrics\\metrics_utils.py\", line 280, in _update_confusion_matrix_variables_optimized\n\n  File \"c:\\DataScience\\tensor_python310\\Lib\\site-packages\\keras\\src\\ops\\math.py\", line 86, in segment_sum\n\n  File \"c:\\DataScience\\tensor_python310\\Lib\\site-packages\\keras\\src\\backend\\tensorflow\\math.py\", line 23, in segment_sum\n\ndata.shape = [32] does not start with segment_ids.shape = [96]\n\t [[{{node UnsortedSegmentSum_1}}]] [Op:__inference_multi_step_on_iterator_981565]"
     ]
    }
   ],
   "source": [
    "#Class Weight This helps balance the loss function so the model doesn't ignore minority classes.\n",
    "history = model.fit(train_generator,epochs=90,validation_data=validation_generator,callbacks=[callback,checkpoint, reduce_lr],class_weight=class_weights)\n",
    "#history = model.fit(train_generator,epochs=90,validation_data=validation_generator)"
   ]
  },
  {
   "cell_type": "code",
   "execution_count": null,
   "metadata": {},
   "outputs": [
    {
     "data": {
      "text/plain": [
       "(None, 256, 256, 3)"
      ]
     },
     "execution_count": 40,
     "metadata": {},
     "output_type": "execute_result"
    }
   ],
   "source": [
    "model.input_shape"
   ]
  },
  {
   "cell_type": "code",
   "execution_count": null,
   "metadata": {},
   "outputs": [
    {
     "data": {
      "text/plain": [
       "(None, 256, 256, 3)"
      ]
     },
     "execution_count": 41,
     "metadata": {},
     "output_type": "execute_result"
    }
   ],
   "source": [
    "history.model.input_shape"
   ]
  },
  {
   "cell_type": "code",
   "execution_count": null,
   "metadata": {
    "colab": {
     "base_uri": "https://localhost:8080/",
     "height": 430
    },
    "executionInfo": {
     "elapsed": 15,
     "status": "ok",
     "timestamp": 1728259379928,
     "user": {
      "displayName": "Arihant Jain",
      "userId": "00542987843204554606"
     },
     "user_tz": -330
    },
    "id": "sTYq3-0iafaX",
    "outputId": "981dbcdc-9072-45a0-9502-4afbd6a09373"
   },
   "outputs": [
    {
     "data": {
      "image/png": "[encoded data removed]",
      "text/plain": [
       "<Figure size 640x480 with 1 Axes>"
      ]
     },
     "metadata": {},
     "output_type": "display_data"
    }
   ],
   "source": [
    "import matplotlib.pyplot as plt\n",
    "plt.plot(history.history['accuracy'],color='red',label='train')\n",
    "plt.plot(history.history['val_accuracy'],color='blue',label='validation')\n",
    "plt.legend()\n",
    "plt.show()"
   ]
  },
  {
   "cell_type": "code",
   "execution_count": null,
   "metadata": {
    "colab": {
     "base_uri": "https://localhost:8080/",
     "height": 430
    },
    "executionInfo": {
     "elapsed": 715,
     "status": "ok",
     "timestamp": 1728259389924,
     "user": {
      "displayName": "Arihant Jain",
      "userId": "00542987843204554606"
     },
     "user_tz": -330
    },
    "id": "clCtuWLFc8dI",
    "outputId": "5cfde2ba-c3fc-4734-f059-e3ed4e82381c"
   },
   "outputs": [
    {
     "data": {
      "image/png": "[encoded data removed]",
      "text/plain": [
       "<Figure size 640x480 with 1 Axes>"
      ]
     },
     "metadata": {},
     "output_type": "display_data"
    }
   ],
   "source": [
    "plt.plot(history.history['loss'],color='red',label='train')\n",
    "plt.plot(history.history['val_loss'],color='blue',label='validation')\n",
    "plt.legend()\n",
    "plt.show()"
   ]
  },
  {
   "cell_type": "markdown",
   "metadata": {
    "id": "cRmAFwm9dPF6"
   },
   "source": [
    "### Ways to reduce overfitting\n",
    "- Add more data\n",
    "- Dropout\n",
    "- Reduce complexity"
   ]
  },
  {
   "cell_type": "code",
   "execution_count": null,
   "metadata": {
    "id": "QaHuu9RXdQhT"
   },
   "outputs": [],
   "source": [
    "import cv2"
   ]
  },
  {
   "cell_type": "code",
   "execution_count": null,
   "metadata": {
    "id": "0OHt84hielKm"
   },
   "outputs": [],
   "source": [
    "test_img = cv2.imread('viral2.jpg')"
   ]
  },
  {
   "cell_type": "code",
   "execution_count": null,
   "metadata": {
    "colab": {
     "base_uri": "https://localhost:8080/",
     "height": 286
    },
    "id": "IeTA7sCaepJa",
    "outputId": "8f82344f-fd6a-4e84-808f-0e7249b49718"
   },
   "outputs": [
    {
     "data": {
      "text/plain": [
       "<function matplotlib.pyplot.show(close=None, block=None)>"
      ]
     },
     "execution_count": 46,
     "metadata": {},
     "output_type": "execute_result"
    },
    {
     "data": {
      "image/png": "[encoded data removed]",
      "text/plain": [
       "<Figure size 640x480 with 1 Axes>"
      ]
     },
     "metadata": {},
     "output_type": "display_data"
    }
   ],
   "source": [
    "# Convert BGR to RGB for correct display\n",
    "plt.imshow(cv2.cvtColor(test_img, cv2.COLOR_BGR2RGB))\n",
    "plt.show"
   ]
  },
  {
   "cell_type": "code",
   "execution_count": null,
   "metadata": {
    "colab": {
     "base_uri": "https://localhost:8080/"
    },
    "id": "FfpQPcsGe-al",
    "outputId": "47bc5cc3-88d0-43b0-89ff-9adc676bcaca"
   },
   "outputs": [
    {
     "data": {
      "text/plain": [
       "(204, 247, 3)"
      ]
     },
     "execution_count": 47,
     "metadata": {},
     "output_type": "execute_result"
    }
   ],
   "source": [
    "test_img.shape"
   ]
  },
  {
   "cell_type": "code",
   "execution_count": null,
   "metadata": {
    "id": "ssibCIFefCFo"
   },
   "outputs": [],
   "source": [
    "test_img = cv2.resize(test_img,(256,256))"
   ]
  },
  {
   "cell_type": "code",
   "execution_count": null,
   "metadata": {
    "id": "imjaZ1SqfGC4"
   },
   "outputs": [],
   "source": [
    "test_input = test_img.reshape((1,256,256,3))\n"
   ]
  },
  {
   "cell_type": "code",
   "execution_count": null,
   "metadata": {},
   "outputs": [
    {
     "data": {
      "text/plain": [
       "(1, 256, 256, 3)"
      ]
     },
     "execution_count": 50,
     "metadata": {},
     "output_type": "execute_result"
    }
   ],
   "source": [
    "test_input.shape"
   ]
  },
  {
   "cell_type": "code",
   "execution_count": null,
   "metadata": {},
   "outputs": [
    {
     "name": "stdout",
     "output_type": "stream",
     "text": [
      "(None, 256, 256, 3)\n"
     ]
    }
   ],
   "source": [
    "print(history.model.input_shape)"
   ]
  },
  {
   "cell_type": "code",
   "execution_count": null,
   "metadata": {},
   "outputs": [
    {
     "name": "stdout",
     "output_type": "stream",
     "text": [
      "\u001b[1m1/1\u001b[0m \u001b[32m━━━━━━━━━━━━━━━━━━━━\u001b[0m\u001b[37m\u001b[0m \u001b[1m0s\u001b[0m 201ms/step\n",
      "[[1.0000000e+00 1.6457548e-12 2.8632625e-08]]\n"
     ]
    }
   ],
   "source": [
    "test_input = tf.cast(test_input, tf.float32) / 255.0\n",
    "input_prediction = history.model.predict(test_input)\n",
    "print(input_prediction)\n"
   ]
  },
  {
   "cell_type": "code",
   "execution_count": null,
   "metadata": {
    "colab": {
     "base_uri": "https://localhost:8080/"
    },
    "executionInfo": {
     "elapsed": 597,
     "status": "ok",
     "timestamp": 1728259800057,
     "user": {
      "displayName": "Arihant Jain",
      "userId": "00542987843204554606"
     },
     "user_tz": -330
    },
    "id": "ukEAMedeTQqQ",
    "outputId": "c31c9a50-2193-4a41-d971-dccc457594bc"
   },
   "outputs": [
    {
     "name": "stdout",
     "output_type": "stream",
     "text": [
      "0\n",
      "COVID\n"
     ]
    }
   ],
   "source": [
    "input_pred_label = np.argmax(input_prediction)\n",
    "print(input_pred_label)\n",
    "if input_pred_label == 0:\n",
    "  print('COVID')\n",
    "elif input_pred_label == 1:\n",
    "  print('NORMAL')\n",
    "else:\n",
    "  print('PNEUMONIA')"
   ]
  },
  {
   "cell_type": "markdown",
   "metadata": {
    "id": "8k9H8wXOTVbA"
   },
   "source": [
    "# Using Pretrained Models - Resnet50- CNN Only)"
   ]
  },
  {
   "cell_type": "markdown",
   "metadata": {},
   "source": [
    "# Import Required Libraries"
   ]
  },
  {
   "cell_type": "code",
   "execution_count": null,
   "metadata": {},
   "outputs": [],
   "source": [
    "from tensorflow.keras.applications import ResNet50\n",
    "from tensorflow.keras.preprocessing.image import ImageDataGenerator\n",
    "from tensorflow.keras.models import Model\n",
    "from tensorflow.keras.layers import Dense, GlobalAveragePooling2D\n",
    "from tensorflow.keras.optimizers import Adam\n"
   ]
  },
  {
   "cell_type": "markdown",
   "metadata": {},
   "source": [
    "# Load Pre-trained ResNet50 (without top layer)"
   ]
  },
  {
   "cell_type": "code",
   "execution_count": null,
   "metadata": {},
   "outputs": [],
   "source": [
    "base_model = ResNet50(weights='imagenet', include_top=False, input_shape=(256, 256, 3))"
   ]
  },
  {
   "cell_type": "markdown",
   "metadata": {},
   "source": [
    "# Freeze Base Layers (initially)"
   ]
  },
  {
   "cell_type": "code",
   "execution_count": null,
   "metadata": {},
   "outputs": [],
   "source": [
    "for layer in base_model.layers:\n",
    "    layer.trainable = False"
   ]
  },
  {
   "cell_type": "markdown",
   "metadata": {},
   "source": [
    "# Add Custom Classification Head"
   ]
  },
  {
   "cell_type": "markdown",
   "metadata": {},
   "source": [
    "# Option1\n"
   ]
  },
  {
   "cell_type": "code",
   "execution_count": null,
   "metadata": {},
   "outputs": [],
   "source": [
    "#num_classes = 2  # with_mask and without_mask\n",
    "#x = base_model.output\n",
    "#x = GlobalAveragePooling2D()(x)\n",
    "#x = Dense(1024, activation='relu')(x)\n",
    "#predictions = Dense(num_classes, activation='softmax')(x)\n",
    "#model = Model(inputs=base_model.input, outputs=predictions)"
   ]
  },
  {
   "cell_type": "markdown",
   "metadata": {},
   "source": [
    "# Option2"
   ]
  },
  {
   "cell_type": "code",
   "execution_count": null,
   "metadata": {},
   "outputs": [],
   "source": [
    "model = Sequential()\n",
    "model.add(base_model)\n",
    "model.add(Flatten())\n",
    "model.add(Dense(256,activation='relu'))\n",
    "model.add(Dense(128,activation='relu'))\n",
    "model.add(Dense(64,activation='relu'))\n",
    "model.add(Dense(3,activation='softmax')) # Use 'sigmoid' for binary classification\n",
    "\n"
   ]
  },
  {
   "cell_type": "code",
   "execution_count": null,
   "metadata": {},
   "outputs": [
    {
     "name": "stdout",
     "output_type": "stream",
     "text": [
      "Found 5395 images belonging to 3 classes.\n",
      "Found 1354 images belonging to 3 classes.\n"
     ]
    }
   ],
   "source": [
    "from tensorflow.keras.preprocessing.image import ImageDataGenerator, array_to_img, img_to_array, load_img\n",
    "\n",
    "#train_generator.reset()\n",
    "#\n",
    "# validation_generator.reset()\n",
    "\n",
    "batch_size = 32\n",
    "train_datagen = ImageDataGenerator(\n",
    "        rescale=1./255,              # Normalize pixel values\n",
    "        rotation_range=30,           # Random rotation\n",
    "        width_shift_range=0.1,       # Horizontal shift\n",
    "        height_shift_range=0.1,      # Vertical shift\n",
    "        shear_range=0.2,             # Shear transformation\n",
    "        zoom_range=0.2,              # Zoom\n",
    "        horizontal_flip=True,        # Flip horizontally\n",
    "        fill_mode='nearest'          # Fill strategy for empty pixels\n",
    ")\n",
    "\n",
    "test_datagen = ImageDataGenerator(rescale=1./255)\n",
    "\n",
    "train_generator = train_datagen.flow_from_directory(\n",
    "        'Covid19-dataset/train',\n",
    "        target_size=(256, 256),\n",
    "        batch_size=batch_size,\n",
    "        class_mode='categorical')  # Use 'sparse' for integer labels, 'categorical' for one-hot encoded labels\n",
    "# If you have multiple classes, use 'categorical' or 'sparse' based on your label format\n",
    "\n",
    "validation_generator = test_datagen.flow_from_directory(\n",
    "        'Covid19-dataset/test',\n",
    "        target_size=(256, 256),\n",
    "        batch_size=batch_size,\n",
    "        class_mode='categorical')  # Use 'sparse' for integer labels, 'categorical' for one-hot encoded labels"
   ]
  },
  {
   "cell_type": "markdown",
   "metadata": {},
   "source": [
    "# Compile the Model"
   ]
  },
  {
   "cell_type": "code",
   "execution_count": null,
   "metadata": {},
   "outputs": [],
   "source": [
    "\n",
    "model.compile(optimizer=Adam(learning_rate=0.001),loss='binary_crossentropy',metrics=['accuracy','binary_accuracy','precision','recall','AUC'])"
   ]
  },
  {
   "cell_type": "markdown",
   "metadata": {},
   "source": [
    "# Overfitting Detected: Suggestions to Fix It\n"
   ]
  },
  {
   "cell_type": "markdown",
   "metadata": {},
   "source": [
    "## Suggestions to Reduce Overfitting\n",
    "### 1. Use Dropout\n",
    "- Add Dropout layers after dense layers to prevent over-reliance on specific neurons.\n",
    "\n",
    "**` from tensorflow.keras.layers import Dropout `**\n",
    "\n",
    "**` x = Dense(1024, activation='relu')(x) `**\n",
    "**` vvx = Dropout(0.5)(x)  # 50% dropout## `**\n",
    "\n",
    "### 2. Data Augmentation\n",
    "\n",
    "- Enable augmentation to improve generalization using ImageDataGenerator.\n",
    "\n",
    "**` from tensorflow.keras.preprocessing.image import ImageDataGenerator `**\n",
    "\n",
    "**` train_datagen = ImageDataGenerator( `**\n",
    "**`     rescale=1./255, `**\n",
    "**`     rotation_range=20, `**\n",
    "**`     zoom_range=0.2, `**\n",
    "**`     width_shift_range=0.2, `**\n",
    "**`     height_shift_range=0.2, `**\n",
    "**`     horizontal_flip=True, `**\n",
    "**`     fill_mode='nearest' `**\n",
    "**` ) `**\n",
    "\n",
    "### 3. Add Regularization\n",
    "- Add L2 (ridge) regularization to dense layers.\n",
    "\n",
    "**` from tensorflow.keras.regularizers import l2 `**\n",
    "\n",
    "**` x = Dense(1024, activation='relu', kernel_regularizer=l2(0.001))(x) `**\n",
    "\n",
    "### 4. Fine-tune the Base Model\n",
    "\n",
    "- Unfreeze the top few layers of your pre-trained ResNet model to allow fine-tuning.\n",
    "\n",
    "**` for layer in base_model.layers[-30:]: `**\n",
    "    **` layer.trainable = True `**\n",
    "\n",
    "## 5. Use EarlyStopping\n",
    "- Stop training when validation loss stops improving to avoid overfitting.\n",
    "\n",
    "**` from tensorflow.keras.callbacks import EarlyStopping `**\n",
    "\n",
    "**` early_stop = EarlyStopping(monitor='val_loss', patience=3, restore_best_weights=True) `**\n",
    "**` model.fit(train_generator, validation_data=val_generator, epochs=10, callbacks=[early_stop]) `**\n",
    "\n",
    "## 6. Lower the Learning Rate for Fine-tuning \n",
    "- When fine-tuning the model, use a small learning rate for better convergence.\n",
    "\n",
    "**` from tensorflow.keras.optimizers import Adam `**\n",
    "\n",
    "**` model.compile(optimizer=Adam(learning_rate=1e-5), loss='categorical_crossentropy', metrics=['accuracy']) `**"
   ]
  },
  {
   "cell_type": "code",
   "execution_count": null,
   "metadata": {},
   "outputs": [],
   "source": [
    "from keras.callbacks import EarlyStopping\n",
    "callback1 = EarlyStopping(\n",
    "    monitor=\"val_loss\",\n",
    "    min_delta=0.00001,\n",
    "    patience=50,\n",
    "    verbose=1,\n",
    "    mode=\"auto\",\n",
    "    baseline=None,\n",
    "    restore_best_weights=True)"
   ]
  },
  {
   "cell_type": "code",
   "execution_count": null,
   "metadata": {},
   "outputs": [],
   "source": [
    "from keras.callbacks import ModelCheckpoint\n",
    "checkpoint1 = ModelCheckpoint(\n",
    "    filepath='best_model_base.h5',           # where to save the model\n",
    "    monitor='val_loss',                 # metric to monitor\n",
    "    save_best_only=True,               # only save when val_loss improves\n",
    "    save_weights_only=False,           # set True to save weights only\n",
    "    mode='min',                        # 'min' for val_loss, 'max' for accuracy\n",
    "    verbose=1                          # logs when model is saved\n",
    ")"
   ]
  },
  {
   "cell_type": "markdown",
   "metadata": {},
   "source": [
    "# Train the Top Layers"
   ]
  },
  {
   "cell_type": "code",
   "execution_count": null,
   "metadata": {},
   "outputs": [
    {
     "name": "stdout",
     "output_type": "stream",
     "text": [
      "Epoch 1/20\n",
      "\u001b[1m169/169\u001b[0m \u001b[32m━━━━━━━━━━━━━━━━━━━━\u001b[0m\u001b[37m\u001b[0m \u001b[1m0s\u001b[0m 1s/step - AUC: 0.7475 - accuracy: 0.5870 - binary_accuracy: 0.7333 - loss: 1.0691 - precision: 0.6009 - recall: 0.5749\n",
      "Epoch 1: val_loss improved from None to 0.47021, saving model to best_model_base.h5\n"
     ]
    },
    {
     "name": "stderr",
     "output_type": "stream",
     "text": [
      "WARNING:absl:You are saving your model as an HDF5 file via `model.save()` or `keras.saving.save_model(model)`. This file format is considered legacy. We recommend using instead the native Keras format, e.g. `model.save('my_model.keras')` or `keras.saving.save_model(model, 'my_model.keras')`. \n"
     ]
    },
    {
     "name": "stdout",
     "output_type": "stream",
     "text": [
      "\u001b[1m169/169\u001b[0m \u001b[32m━━━━━━━━━━━━━━━━━━━━\u001b[0m\u001b[37m\u001b[0m \u001b[1m289s\u001b[0m 2s/step - AUC: 0.7903 - accuracy: 0.6358 - binary_accuracy: 0.7587 - loss: 0.6907 - precision: 0.6417 - recall: 0.6248 - val_AUC: 0.8492 - val_accuracy: 0.7230 - val_binary_accuracy: 0.8181 - val_loss: 0.4702 - val_precision: 0.7393 - val_recall: 0.7016\n",
      "Epoch 2/20\n",
      "\u001b[1m169/169\u001b[0m \u001b[32m━━━━━━━━━━━━━━━━━━━━\u001b[0m\u001b[37m\u001b[0m \u001b[1m0s\u001b[0m 1s/step - AUC: 0.8789 - accuracy: 0.7233 - binary_accuracy: 0.8163 - loss: 0.4182 - precision: 0.7260 - recall: 0.7211\n",
      "Epoch 2: val_loss improved from 0.47021 to 0.43185, saving model to best_model_base.h5\n"
     ]
    },
    {
     "name": "stderr",
     "output_type": "stream",
     "text": [
      "WARNING:absl:You are saving your model as an HDF5 file via `model.save()` or `keras.saving.save_model(model)`. This file format is considered legacy. We recommend using instead the native Keras format, e.g. `model.save('my_model.keras')` or `keras.saving.save_model(model, 'my_model.keras')`. \n"
     ]
    },
    {
     "name": "stdout",
     "output_type": "stream",
     "text": [
      "\u001b[1m169/169\u001b[0m \u001b[32m━━━━━━━━━━━━━━━━━━━━\u001b[0m\u001b[37m\u001b[0m \u001b[1m263s\u001b[0m 2s/step - AUC: 0.8827 - accuracy: 0.7273 - binary_accuracy: 0.8192 - loss: 0.4111 - precision: 0.7317 - recall: 0.7227 - val_AUC: 0.8783 - val_accuracy: 0.7511 - val_binary_accuracy: 0.8343 - val_loss: 0.4318 - val_precision: 0.7520 - val_recall: 0.7504\n",
      "Epoch 3/20\n",
      "\u001b[1m169/169\u001b[0m \u001b[32m━━━━━━━━━━━━━━━━━━━━\u001b[0m\u001b[37m\u001b[0m \u001b[1m0s\u001b[0m 1s/step - AUC: 0.8893 - accuracy: 0.7333 - binary_accuracy: 0.8237 - loss: 0.4012 - precision: 0.7414 - recall: 0.7235\n",
      "Epoch 3: val_loss improved from 0.43185 to 0.40421, saving model to best_model_base.h5\n"
     ]
    },
    {
     "name": "stderr",
     "output_type": "stream",
     "text": [
      "WARNING:absl:You are saving your model as an HDF5 file via `model.save()` or `keras.saving.save_model(model)`. This file format is considered legacy. We recommend using instead the native Keras format, e.g. `model.save('my_model.keras')` or `keras.saving.save_model(model, 'my_model.keras')`. \n"
     ]
    },
    {
     "name": "stdout",
     "output_type": "stream",
     "text": [
      "\u001b[1m169/169\u001b[0m \u001b[32m━━━━━━━━━━━━━━━━━━━━\u001b[0m\u001b[37m\u001b[0m \u001b[1m274s\u001b[0m 2s/step - AUC: 0.8946 - accuracy: 0.7448 - binary_accuracy: 0.8314 - loss: 0.3932 - precision: 0.7540 - recall: 0.7336 - val_AUC: 0.9024 - val_accuracy: 0.6957 - val_binary_accuracy: 0.7974 - val_loss: 0.4042 - val_precision: 0.6965 - val_recall: 0.6950\n",
      "Epoch 4/20\n",
      "\u001b[1m169/169\u001b[0m \u001b[32m━━━━━━━━━━━━━━━━━━━━\u001b[0m\u001b[37m\u001b[0m \u001b[1m0s\u001b[0m 1s/step - AUC: 0.8903 - accuracy: 0.7385 - binary_accuracy: 0.8257 - loss: 0.3920 - precision: 0.7455 - recall: 0.7242\n",
      "Epoch 4: val_loss improved from 0.40421 to 0.28816, saving model to best_model_base.h5\n"
     ]
    },
    {
     "name": "stderr",
     "output_type": "stream",
     "text": [
      "WARNING:absl:You are saving your model as an HDF5 file via `model.save()` or `keras.saving.save_model(model)`. This file format is considered legacy. We recommend using instead the native Keras format, e.g. `model.save('my_model.keras')` or `keras.saving.save_model(model, 'my_model.keras')`. \n"
     ]
    },
    {
     "name": "stdout",
     "output_type": "stream",
     "text": [
      "\u001b[1m169/169\u001b[0m \u001b[32m━━━━━━━━━━━━━━━━━━━━\u001b[0m\u001b[37m\u001b[0m \u001b[1m265s\u001b[0m 2s/step - AUC: 0.9002 - accuracy: 0.7477 - binary_accuracy: 0.8330 - loss: 0.3729 - precision: 0.7565 - recall: 0.7359 - val_AUC: 0.9459 - val_accuracy: 0.7917 - val_binary_accuracy: 0.8631 - val_loss: 0.2882 - val_precision: 0.7969 - val_recall: 0.7910\n",
      "Epoch 5/20\n",
      "\u001b[1m169/169\u001b[0m \u001b[32m━━━━━━━━━━━━━━━━━━━━\u001b[0m\u001b[37m\u001b[0m \u001b[1m0s\u001b[0m 1s/step - AUC: 0.9146 - accuracy: 0.7651 - binary_accuracy: 0.8452 - loss: 0.3452 - precision: 0.7747 - recall: 0.7552\n",
      "Epoch 5: val_loss did not improve from 0.28816\n",
      "\u001b[1m169/169\u001b[0m \u001b[32m━━━━━━━━━━━━━━━━━━━━\u001b[0m\u001b[37m\u001b[0m \u001b[1m261s\u001b[0m 2s/step - AUC: 0.9153 - accuracy: 0.7648 - binary_accuracy: 0.8449 - loss: 0.3444 - precision: 0.7737 - recall: 0.7559 - val_AUC: 0.8757 - val_accuracy: 0.6743 - val_binary_accuracy: 0.7834 - val_loss: 0.4075 - val_precision: 0.6806 - val_recall: 0.6595\n",
      "Epoch 6/20\n",
      "\u001b[1m169/169\u001b[0m \u001b[32m━━━━━━━━━━━━━━━━━━━━\u001b[0m\u001b[37m\u001b[0m \u001b[1m0s\u001b[0m 1s/step - AUC: 0.9240 - accuracy: 0.7872 - binary_accuracy: 0.8556 - loss: 0.3301 - precision: 0.7899 - recall: 0.7722\n",
      "Epoch 6: val_loss improved from 0.28816 to 0.26079, saving model to best_model_base.h5\n"
     ]
    },
    {
     "name": "stderr",
     "output_type": "stream",
     "text": [
      "WARNING:absl:You are saving your model as an HDF5 file via `model.save()` or `keras.saving.save_model(model)`. This file format is considered legacy. We recommend using instead the native Keras format, e.g. `model.save('my_model.keras')` or `keras.saving.save_model(model, 'my_model.keras')`. \n"
     ]
    },
    {
     "name": "stdout",
     "output_type": "stream",
     "text": [
      "\u001b[1m169/169\u001b[0m \u001b[32m━━━━━━━━━━━━━━━━━━━━\u001b[0m\u001b[37m\u001b[0m \u001b[1m261s\u001b[0m 2s/step - AUC: 0.9340 - accuracy: 0.7994 - binary_accuracy: 0.8656 - loss: 0.3067 - precision: 0.8039 - recall: 0.7892 - val_AUC: 0.9552 - val_accuracy: 0.8287 - val_binary_accuracy: 0.8855 - val_loss: 0.2608 - val_precision: 0.8315 - val_recall: 0.8235\n",
      "Epoch 7/20\n",
      "\u001b[1m169/169\u001b[0m \u001b[32m━━━━━━━━━━━━━━━━━━━━\u001b[0m\u001b[37m\u001b[0m \u001b[1m0s\u001b[0m 1s/step - AUC: 0.9242 - accuracy: 0.7895 - binary_accuracy: 0.8605 - loss: 0.3258 - precision: 0.7949 - recall: 0.7836\n",
      "Epoch 7: val_loss improved from 0.26079 to 0.23371, saving model to best_model_base.h5\n"
     ]
    },
    {
     "name": "stderr",
     "output_type": "stream",
     "text": [
      "WARNING:absl:You are saving your model as an HDF5 file via `model.save()` or `keras.saving.save_model(model)`. This file format is considered legacy. We recommend using instead the native Keras format, e.g. `model.save('my_model.keras')` or `keras.saving.save_model(model, 'my_model.keras')`. \n"
     ]
    },
    {
     "name": "stdout",
     "output_type": "stream",
     "text": [
      "\u001b[1m169/169\u001b[0m \u001b[32m━━━━━━━━━━━━━━━━━━━━\u001b[0m\u001b[37m\u001b[0m \u001b[1m260s\u001b[0m 2s/step - AUC: 0.9273 - accuracy: 0.7900 - binary_accuracy: 0.8609 - loss: 0.3200 - precision: 0.7960 - recall: 0.7833 - val_AUC: 0.9616 - val_accuracy: 0.8634 - val_binary_accuracy: 0.9099 - val_loss: 0.2337 - val_precision: 0.8665 - val_recall: 0.8626\n",
      "Epoch 8/20\n",
      "\u001b[1m169/169\u001b[0m \u001b[32m━━━━━━━━━━━━━━━━━━━━\u001b[0m\u001b[37m\u001b[0m \u001b[1m0s\u001b[0m 1s/step - AUC: 0.9413 - accuracy: 0.8066 - binary_accuracy: 0.8730 - loss: 0.2883 - precision: 0.8133 - recall: 0.8035\n",
      "Epoch 8: val_loss did not improve from 0.23371\n",
      "\u001b[1m169/169\u001b[0m \u001b[32m━━━━━━━━━━━━━━━━━━━━\u001b[0m\u001b[37m\u001b[0m \u001b[1m267s\u001b[0m 2s/step - AUC: 0.9333 - accuracy: 0.7948 - binary_accuracy: 0.8642 - loss: 0.3045 - precision: 0.8011 - recall: 0.7883 - val_AUC: 0.9543 - val_accuracy: 0.8323 - val_binary_accuracy: 0.8892 - val_loss: 0.2711 - val_precision: 0.8368 - val_recall: 0.8294\n",
      "Epoch 9/20\n",
      "\u001b[1m169/169\u001b[0m \u001b[32m━━━━━━━━━━━━━━━━━━━━\u001b[0m\u001b[37m\u001b[0m \u001b[1m0s\u001b[0m 1s/step - AUC: 0.9332 - accuracy: 0.7934 - binary_accuracy: 0.8635 - loss: 0.3044 - precision: 0.7990 - recall: 0.7891\n",
      "Epoch 9: val_loss did not improve from 0.23371\n",
      "\u001b[1m169/169\u001b[0m \u001b[32m━━━━━━━━━━━━━━━━━━━━\u001b[0m\u001b[37m\u001b[0m \u001b[1m261s\u001b[0m 2s/step - AUC: 0.9300 - accuracy: 0.7924 - binary_accuracy: 0.8628 - loss: 0.3114 - precision: 0.7991 - recall: 0.7861 - val_AUC: 0.9453 - val_accuracy: 0.8109 - val_binary_accuracy: 0.8764 - val_loss: 0.3053 - val_precision: 0.8222 - val_recall: 0.8028\n",
      "Epoch 10/20\n",
      "\u001b[1m169/169\u001b[0m \u001b[32m━━━━━━━━━━━━━━━━━━━━\u001b[0m\u001b[37m\u001b[0m \u001b[1m0s\u001b[0m 1s/step - AUC: 0.9345 - accuracy: 0.8033 - binary_accuracy: 0.8697 - loss: 0.3068 - precision: 0.8104 - recall: 0.7952\n",
      "Epoch 10: val_loss did not improve from 0.23371\n",
      "\u001b[1m169/169\u001b[0m \u001b[32m━━━━━━━━━━━━━━━━━━━━\u001b[0m\u001b[37m\u001b[0m \u001b[1m265s\u001b[0m 2s/step - AUC: 0.9344 - accuracy: 0.8015 - binary_accuracy: 0.8687 - loss: 0.3033 - precision: 0.8077 - recall: 0.7956 - val_AUC: 0.9581 - val_accuracy: 0.8427 - val_binary_accuracy: 0.8946 - val_loss: 0.2444 - val_precision: 0.8430 - val_recall: 0.8405\n",
      "Epoch 11/20\n",
      "\u001b[1m169/169\u001b[0m \u001b[32m━━━━━━━━━━━━━━━━━━━━\u001b[0m\u001b[37m\u001b[0m \u001b[1m0s\u001b[0m 1s/step - AUC: 0.9456 - accuracy: 0.8208 - binary_accuracy: 0.8803 - loss: 0.2777 - precision: 0.8235 - recall: 0.8159\n",
      "Epoch 11: val_loss did not improve from 0.23371\n",
      "\u001b[1m169/169\u001b[0m \u001b[32m━━━━━━━━━━━━━━━━━━━━\u001b[0m\u001b[37m\u001b[0m \u001b[1m286s\u001b[0m 2s/step - AUC: 0.9450 - accuracy: 0.8213 - binary_accuracy: 0.8814 - loss: 0.2766 - precision: 0.8256 - recall: 0.8167 - val_AUC: 0.9568 - val_accuracy: 0.8516 - val_binary_accuracy: 0.9020 - val_loss: 0.2364 - val_precision: 0.8551 - val_recall: 0.8501\n",
      "Epoch 12/20\n",
      "\u001b[1m169/169\u001b[0m \u001b[32m━━━━━━━━━━━━━━━━━━━━\u001b[0m\u001b[37m\u001b[0m \u001b[1m0s\u001b[0m 1s/step - AUC: 0.9467 - accuracy: 0.8139 - binary_accuracy: 0.8762 - loss: 0.2678 - precision: 0.8172 - recall: 0.8098\n",
      "Epoch 12: val_loss improved from 0.23371 to 0.21015, saving model to best_model_base.h5\n"
     ]
    },
    {
     "name": "stderr",
     "output_type": "stream",
     "text": [
      "WARNING:absl:You are saving your model as an HDF5 file via `model.save()` or `keras.saving.save_model(model)`. This file format is considered legacy. We recommend using instead the native Keras format, e.g. `model.save('my_model.keras')` or `keras.saving.save_model(model, 'my_model.keras')`. \n"
     ]
    },
    {
     "name": "stdout",
     "output_type": "stream",
     "text": [
      "\u001b[1m169/169\u001b[0m \u001b[32m━━━━━━━━━━━━━━━━━━━━\u001b[0m\u001b[37m\u001b[0m \u001b[1m265s\u001b[0m 2s/step - AUC: 0.9489 - accuracy: 0.8258 - binary_accuracy: 0.8843 - loss: 0.2626 - precision: 0.8298 - recall: 0.8213 - val_AUC: 0.9720 - val_accuracy: 0.8730 - val_binary_accuracy: 0.9163 - val_loss: 0.2101 - val_precision: 0.8756 - val_recall: 0.8730\n",
      "Epoch 13/20\n",
      "\u001b[1m169/169\u001b[0m \u001b[32m━━━━━━━━━━━━━━━━━━━━\u001b[0m\u001b[37m\u001b[0m \u001b[1m0s\u001b[0m 1s/step - AUC: 0.9386 - accuracy: 0.8146 - binary_accuracy: 0.8757 - loss: 0.2878 - precision: 0.8166 - recall: 0.8088\n",
      "Epoch 13: val_loss did not improve from 0.21015\n",
      "\u001b[1m169/169\u001b[0m \u001b[32m━━━━━━━━━━━━━━━━━━━━\u001b[0m\u001b[37m\u001b[0m \u001b[1m264s\u001b[0m 2s/step - AUC: 0.9358 - accuracy: 0.8091 - binary_accuracy: 0.8728 - loss: 0.2960 - precision: 0.8123 - recall: 0.8044 - val_AUC: 0.9419 - val_accuracy: 0.8117 - val_binary_accuracy: 0.8762 - val_loss: 0.2823 - val_precision: 0.8164 - val_recall: 0.8109\n",
      "Epoch 14/20\n",
      "\u001b[1m169/169\u001b[0m \u001b[32m━━━━━━━━━━━━━━━━━━━━\u001b[0m\u001b[37m\u001b[0m \u001b[1m0s\u001b[0m 1s/step - AUC: 0.9376 - accuracy: 0.8110 - binary_accuracy: 0.8734 - loss: 0.2919 - precision: 0.8132 - recall: 0.8050\n",
      "Epoch 14: val_loss did not improve from 0.21015\n",
      "\u001b[1m169/169\u001b[0m \u001b[32m━━━━━━━━━━━━━━━━━━━━\u001b[0m\u001b[37m\u001b[0m \u001b[1m270s\u001b[0m 2s/step - AUC: 0.9433 - accuracy: 0.8226 - binary_accuracy: 0.8818 - loss: 0.2790 - precision: 0.8254 - recall: 0.8185 - val_AUC: 0.9660 - val_accuracy: 0.8774 - val_binary_accuracy: 0.9190 - val_loss: 0.2112 - val_precision: 0.8793 - val_recall: 0.8774\n",
      "Epoch 15/20\n",
      "\u001b[1m169/169\u001b[0m \u001b[32m━━━━━━━━━━━━━━━━━━━━\u001b[0m\u001b[37m\u001b[0m \u001b[1m0s\u001b[0m 1s/step - AUC: 0.9425 - accuracy: 0.8141 - binary_accuracy: 0.8774 - loss: 0.2823 - precision: 0.8199 - recall: 0.8102\n",
      "Epoch 15: val_loss did not improve from 0.21015\n",
      "\u001b[1m169/169\u001b[0m \u001b[32m━━━━━━━━━━━━━━━━━━━━\u001b[0m\u001b[37m\u001b[0m \u001b[1m264s\u001b[0m 2s/step - AUC: 0.9451 - accuracy: 0.8263 - binary_accuracy: 0.8851 - loss: 0.2745 - precision: 0.8322 - recall: 0.8209 - val_AUC: 0.9174 - val_accuracy: 0.7954 - val_binary_accuracy: 0.8653 - val_loss: 0.3468 - val_precision: 0.7996 - val_recall: 0.7954\n",
      "Epoch 16/20\n",
      "\u001b[1m169/169\u001b[0m \u001b[32m━━━━━━━━━━━━━━━━━━━━\u001b[0m\u001b[37m\u001b[0m \u001b[1m0s\u001b[0m 1s/step - AUC: 0.9467 - accuracy: 0.8321 - binary_accuracy: 0.8886 - loss: 0.2666 - precision: 0.8355 - recall: 0.8291\n",
      "Epoch 16: val_loss did not improve from 0.21015\n",
      "\u001b[1m169/169\u001b[0m \u001b[32m━━━━━━━━━━━━━━━━━━━━\u001b[0m\u001b[37m\u001b[0m \u001b[1m257s\u001b[0m 2s/step - AUC: 0.9470 - accuracy: 0.8285 - binary_accuracy: 0.8864 - loss: 0.2683 - precision: 0.8323 - recall: 0.8254 - val_AUC: 0.9545 - val_accuracy: 0.8493 - val_binary_accuracy: 0.8993 - val_loss: 0.2387 - val_precision: 0.8513 - val_recall: 0.8456\n",
      "Epoch 17/20\n",
      "\u001b[1m169/169\u001b[0m \u001b[32m━━━━━━━━━━━━━━━━━━━━\u001b[0m\u001b[37m\u001b[0m \u001b[1m0s\u001b[0m 1s/step - AUC: 0.9402 - accuracy: 0.8098 - binary_accuracy: 0.8736 - loss: 0.2859 - precision: 0.8129 - recall: 0.8066\n",
      "Epoch 17: val_loss did not improve from 0.21015\n",
      "\u001b[1m169/169\u001b[0m \u001b[32m━━━━━━━━━━━━━━━━━━━━\u001b[0m\u001b[37m\u001b[0m \u001b[1m255s\u001b[0m 2s/step - AUC: 0.9470 - accuracy: 0.8235 - binary_accuracy: 0.8827 - loss: 0.2688 - precision: 0.8267 - recall: 0.8198 - val_AUC: 0.9603 - val_accuracy: 0.8405 - val_binary_accuracy: 0.8954 - val_loss: 0.2431 - val_precision: 0.8448 - val_recall: 0.8405\n",
      "Epoch 18/20\n",
      "\u001b[1m169/169\u001b[0m \u001b[32m━━━━━━━━━━━━━━━━━━━━\u001b[0m\u001b[37m\u001b[0m \u001b[1m0s\u001b[0m 1s/step - AUC: 0.9553 - accuracy: 0.8360 - binary_accuracy: 0.8914 - loss: 0.2481 - precision: 0.8394 - recall: 0.8337\n",
      "Epoch 18: val_loss did not improve from 0.21015\n",
      "\u001b[1m169/169\u001b[0m \u001b[32m━━━━━━━━━━━━━━━━━━━━\u001b[0m\u001b[37m\u001b[0m \u001b[1m253s\u001b[0m 1s/step - AUC: 0.9498 - accuracy: 0.8291 - binary_accuracy: 0.8867 - loss: 0.2621 - precision: 0.8326 - recall: 0.8261 - val_AUC: 0.9668 - val_accuracy: 0.8523 - val_binary_accuracy: 0.9015 - val_loss: 0.2340 - val_precision: 0.8544 - val_recall: 0.8493\n",
      "Epoch 19/20\n",
      "\u001b[1m169/169\u001b[0m \u001b[32m━━━━━━━━━━━━━━━━━━━━\u001b[0m\u001b[37m\u001b[0m \u001b[1m0s\u001b[0m 1s/step - AUC: 0.9505 - accuracy: 0.8328 - binary_accuracy: 0.8893 - loss: 0.2590 - precision: 0.8358 - recall: 0.8312\n",
      "Epoch 19: val_loss did not improve from 0.21015\n",
      "\u001b[1m169/169\u001b[0m \u001b[32m━━━━━━━━━━━━━━━━━━━━\u001b[0m\u001b[37m\u001b[0m \u001b[1m252s\u001b[0m 1s/step - AUC: 0.9465 - accuracy: 0.8234 - binary_accuracy: 0.8829 - loss: 0.2712 - precision: 0.8273 - recall: 0.8198 - val_AUC: 0.9603 - val_accuracy: 0.8493 - val_binary_accuracy: 0.8998 - val_loss: 0.2365 - val_precision: 0.8500 - val_recall: 0.8493\n",
      "Epoch 20/20\n",
      "\u001b[1m169/169\u001b[0m \u001b[32m━━━━━━━━━━━━━━━━━━━━\u001b[0m\u001b[37m\u001b[0m \u001b[1m0s\u001b[0m 1s/step - AUC: 0.9523 - accuracy: 0.8400 - binary_accuracy: 0.8941 - loss: 0.2550 - precision: 0.8448 - recall: 0.8358\n",
      "Epoch 20: val_loss did not improve from 0.21015\n",
      "\u001b[1m169/169\u001b[0m \u001b[32m━━━━━━━━━━━━━━━━━━━━\u001b[0m\u001b[37m\u001b[0m \u001b[1m258s\u001b[0m 2s/step - AUC: 0.9535 - accuracy: 0.8400 - binary_accuracy: 0.8934 - loss: 0.2515 - precision: 0.8432 - recall: 0.8354 - val_AUC: 0.9610 - val_accuracy: 0.8353 - val_binary_accuracy: 0.8922 - val_loss: 0.2401 - val_precision: 0.8403 - val_recall: 0.8353\n",
      "Restoring model weights from the end of the best epoch: 12.\n"
     ]
    }
   ],
   "source": [
    "history1 = model.fit(train_generator,validation_data=validation_generator,\tepochs=20,callbacks=[checkpoint1,callback1])"
   ]
  },
  {
   "cell_type": "code",
   "execution_count": null,
   "metadata": {},
   "outputs": [
    {
     "data": {
      "image/png": "[encoded data removed]",
      "text/plain": [
       "<Figure size 640x480 with 1 Axes>"
      ]
     },
     "metadata": {},
     "output_type": "display_data"
    }
   ],
   "source": [
    "import matplotlib.pyplot as plt\n",
    "\n",
    "plt.plot(history1.history['loss'], label='Train Loss')\n",
    "plt.plot(history1.history['val_loss'], label='Validation Loss')\n",
    "plt.xlabel('Epoch')\n",
    "plt.ylabel('Loss')\n",
    "plt.legend()\n",
    "plt.title('Training vs Validation Loss')\n",
    "plt.show()"
   ]
  },
  {
   "cell_type": "code",
   "execution_count": null,
   "metadata": {},
   "outputs": [
    {
     "data": {
      "image/png": "[encoded data removed]",
      "text/plain": [
       "<Figure size 640x480 with 1 Axes>"
      ]
     },
     "metadata": {},
     "output_type": "display_data"
    }
   ],
   "source": [
    "import matplotlib.pyplot as plt\n",
    "history1.history1 = history1.history\n",
    "plt.plot(history1.history['accuracy'],color='red',label='train')\n",
    "plt.plot(history1.history['val_accuracy'],color='blue',label='validation')\n",
    "plt.legend()\n",
    "plt.show()"
   ]
  },
  {
   "cell_type": "code",
   "execution_count": null,
   "metadata": {},
   "outputs": [
    {
     "name": "stdout",
     "output_type": "stream",
     "text": [
      "(None, 256, 256, 3)\n",
      "\u001b[1m1/1\u001b[0m \u001b[32m━━━━━━━━━━━━━━━━━━━━\u001b[0m\u001b[37m\u001b[0m \u001b[1m2s\u001b[0m 2s/step\n",
      "[[9.7972417e-01 8.8617025e-04 1.9389568e-02]]\n",
      "0\n",
      "COVID\n"
     ]
    },
    {
     "data": {
      "image/png": "[encoded data removed]",
      "text/plain": [
       "<Figure size 640x480 with 1 Axes>"
      ]
     },
     "metadata": {},
     "output_type": "display_data"
    }
   ],
   "source": [
    "import cv2\n",
    "test_img = cv2.imread('viral2.jpg')\n",
    "# Convert BGR to RGB for correct display\n",
    "plt.imshow(cv2.cvtColor(test_img, cv2.COLOR_BGR2RGB))\n",
    "plt.show\n",
    "test_img.shape\n",
    "test_img = cv2.resize(test_img,(256,256))\n",
    "test_input = test_img.reshape((1,256,256,3))\n",
    "\n",
    "test_input.shape\n",
    "print(history1.model.input_shape)\n",
    "test_input = tf.cast(test_input, tf.float32) / 255.0\n",
    "input_prediction = history1.model.predict(test_input)\n",
    "print(input_prediction)\n",
    "\n",
    "input_pred_label = np.argmax(input_prediction)\n",
    "print(input_pred_label)\n",
    "if input_pred_label == 0:\n",
    "  print('COVID')\n",
    "elif input_pred_label == 1:\n",
    "  print('NORMAL')\n",
    "else:\n",
    "  print('PNEUMONIA')"
   ]
  },
  {
   "cell_type": "markdown",
   "metadata": {},
   "source": [
    "# Fine-Tune Some Deeper Layers"
   ]
  },
  {
   "cell_type": "code",
   "execution_count": null,
   "metadata": {},
   "outputs": [
    {
     "name": "stdout",
     "output_type": "stream",
     "text": [
      "Epoch 1/5\n",
      "\u001b[1m169/169\u001b[0m \u001b[32m━━━━━━━━━━━━━━━━━━━━\u001b[0m\u001b[37m\u001b[0m \u001b[1m299s\u001b[0m 2s/step - accuracy: 0.7531 - loss: 0.9211 - val_accuracy: 0.3907 - val_loss: 1.4996\n",
      "Epoch 2/5\n",
      "\u001b[1m169/169\u001b[0m \u001b[32m━━━━━━━━━━━━━━━━━━━━\u001b[0m\u001b[37m\u001b[0m \u001b[1m282s\u001b[0m 2s/step - accuracy: 0.8500 - loss: 0.3842 - val_accuracy: 0.7290 - val_loss: 0.6063\n",
      "Epoch 3/5\n",
      "\u001b[1m169/169\u001b[0m \u001b[32m━━━━━━━━━━━━━━━━━━━━\u001b[0m\u001b[37m\u001b[0m \u001b[1m282s\u001b[0m 2s/step - accuracy: 0.8601 - loss: 0.3472 - val_accuracy: 0.9099 - val_loss: 0.2672\n",
      "Epoch 4/5\n",
      "\u001b[1m169/169\u001b[0m \u001b[32m━━━━━━━━━━━━━━━━━━━━\u001b[0m\u001b[37m\u001b[0m \u001b[1m281s\u001b[0m 2s/step - accuracy: 0.8612 - loss: 0.3406 - val_accuracy: 0.8966 - val_loss: 0.2620\n",
      "Epoch 5/5\n",
      "\u001b[1m169/169\u001b[0m \u001b[32m━━━━━━━━━━━━━━━━━━━━\u001b[0m\u001b[37m\u001b[0m \u001b[1m282s\u001b[0m 2s/step - accuracy: 0.8675 - loss: 0.3211 - val_accuracy: 0.9210 - val_loss: 0.2499\n"
     ]
    },
    {
     "name": "stderr",
     "output_type": "stream",
     "text": [
      "WARNING:absl:You are saving your model as an HDF5 file via `model.save()` or `keras.saving.save_model(model)`. This file format is considered legacy. We recommend using instead the native Keras format, e.g. `model.save('my_model.keras')` or `keras.saving.save_model(model, 'my_model.keras')`. \n"
     ]
    }
   ],
   "source": [
    "for layer in base_model.layers[-30:]:  # Unfreeze last 30 layers\n",
    "    layer.trainable = True\n",
    "\n",
    "model.compile(optimizer=Adam(learning_rate=1e-5),loss='categorical_crossentropy',metrics=['accuracy'])\n",
    "model.fit(train_generator, validation_data=validation_generator, epochs=5)\n",
    "# Save the model\n",
    "model.save('base_tunes.h5')   "
   ]
  },
  {
   "cell_type": "code",
   "execution_count": null,
   "metadata": {},
   "outputs": [
    {
     "name": "stderr",
     "output_type": "stream",
     "text": [
      "WARNING:absl:Compiled the loaded model, but the compiled metrics have yet to be built. `model.compile_metrics` will be empty until you train or evaluate the model.\n",
      "2025-08-13 19:11:43.900 WARNING streamlit.runtime.scriptrunner_utils.script_run_context: Thread 'MainThread': missing ScriptRunContext! This warning can be ignored when running in bare mode.\n",
      "2025-08-13 19:11:44.131 \n",
      "  \u001b[33m\u001b[1mWarning:\u001b[0m to view this Streamlit app on a browser, run it with the following\n",
      "  command:\n",
      "\n",
      "    streamlit run c:\\DataScience\\tensor_python310\\Lib\\site-packages\\ipykernel_launcher.py [ARGUMENTS]\n",
      "2025-08-13 19:11:44.132 Thread 'MainThread': missing ScriptRunContext! This warning can be ignored when running in bare mode.\n",
      "2025-08-13 19:11:44.133 Thread 'MainThread': missing ScriptRunContext! This warning can be ignored when running in bare mode.\n",
      "2025-08-13 19:11:44.134 Thread 'MainThread': missing ScriptRunContext! This warning can be ignored when running in bare mode.\n",
      "2025-08-13 19:11:44.136 Thread 'MainThread': missing ScriptRunContext! This warning can be ignored when running in bare mode.\n",
      "2025-08-13 19:11:44.137 Thread 'MainThread': missing ScriptRunContext! This warning can be ignored when running in bare mode.\n",
      "2025-08-13 19:11:44.139 Thread 'MainThread': missing ScriptRunContext! This warning can be ignored when running in bare mode.\n",
      "2025-08-13 19:11:44.140 Thread 'MainThread': missing ScriptRunContext! This warning can be ignored when running in bare mode.\n",
      "2025-08-13 19:11:44.141 Thread 'MainThread': missing ScriptRunContext! This warning can be ignored when running in bare mode.\n"
     ]
    }
   ],
   "source": [
    "import streamlit as st\n",
    "import numpy as np\n",
    "from PIL import Image\n",
    "from tensorflow.keras.models import load_model\n",
    "from tensorflow.keras.preprocessing.image import img_to_array\n",
    "\n",
    "# Load the trained Keras model\n",
    "model = load_model('best_model.h5')\n",
    "\n",
    "# Class labels (adjust to your dataset)\n",
    "species = ['COVID', 'No COVID', 'PNEMONIA']\n",
    "\n",
    "# App title\n",
    "st.title(\"🦠 Covid Classification\")\n",
    "\n",
    "# File uploader for image\n",
    "uploaded_file = st.file_uploader(\"Upload an image of a Chest Scan\", type=[\"jpg\", \"jpeg\", \"png\"])\n",
    "\n",
    "if uploaded_file is not None:\n",
    "    # Open image\n",
    "    image = Image.open(uploaded_file).convert('RGB')\n",
    "    st.image(image, caption='Uploaded Image', use_column_width=True)\n",
    "\n",
    "    # Preprocess image (adjust size to model's expected input)\n",
    "    img_size = (256, 256)  # change to the size your model was trained on\n",
    "    image = image.resize(img_size)\n",
    "    img_array = img_to_array(image) / 255.0  # normalize if trained that way\n",
    "    img_array = np.expand_dims(img_array, axis=0)  # add batch dimension\n",
    "\n",
    "    # Predict button\n",
    "    if st.button(\"Predict\"):\n",
    "        prediction = model.predict(img_array)\n",
    "        pred_class = np.argmax(prediction, axis=1)[0]\n",
    "        st.success(f\"Predicted Classification: **{species[pred_class]}**\")\n"
   ]
  },
  {
   "cell_type": "code",
   "execution_count": null,
   "metadata": {},
   "outputs": [],
   "source": []
  }
 ],
 "metadata": {
  "accelerator": "GPU",
  "colab": {
   "gpuType": "T4",
   "provenance": []
  },
  "kernelspec": {
   "display_name": "tensor_python310 (3.11.9)",
   "language": "python",
   "name": "python3"
  },
  "language_info": {
   "codemirror_mode": {
    "name": "ipython",
    "version": 3
   },
   "file_extension": ".py",
   "mimetype": "text/x-python",
   "name": "python",
   "nbconvert_exporter": "python",
   "pygments_lexer": "ipython3",
   "version": "3.11.9"
  }
 },
 "nbformat": 4,
 "nbformat_minor": 4
}
